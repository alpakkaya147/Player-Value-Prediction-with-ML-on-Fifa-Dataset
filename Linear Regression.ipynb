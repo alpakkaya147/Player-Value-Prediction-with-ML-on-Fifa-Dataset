{
 "cells": [
  {
   "cell_type": "markdown",
   "metadata": {
    "cell_id": "00000-110c762d-b8aa-4f60-8e07-28226ac2ce70",
    "deepnote_cell_type": "text-cell-h1",
    "tags": []
   },
   "source": [
    "# Final Project"
   ]
  },
  {
   "cell_type": "code",
   "execution_count": null,
   "metadata": {
    "cell_id": "00001-93fa54a2-24bf-49ac-bcd8-33d7ef4616bd",
    "deepnote_cell_type": "code",
    "deepnote_to_be_reexecuted": false,
    "execution_millis": 13882,
    "execution_start": 1621942422662,
    "source_hash": "55336d52",
    "tags": []
   },
   "outputs": [
    {
     "name": "stdout",
     "output_type": "stream",
     "text": [
      "Requirement already satisfied: yellowbrick in /root/venv/lib/python3.7/site-packages (1.3.post1)\n",
      "Requirement already satisfied: matplotlib!=3.0.0,>=2.0.2 in /shared-libs/python3.7/py/lib/python3.7/site-packages (from yellowbrick) (3.4.1)\n",
      "Requirement already satisfied: scipy>=1.0.0 in /shared-libs/python3.7/py/lib/python3.7/site-packages (from yellowbrick) (1.6.3)\n",
      "Requirement already satisfied: numpy<1.20,>=1.16.0 in /shared-libs/python3.7/py/lib/python3.7/site-packages (from yellowbrick) (1.19.5)\n",
      "Requirement already satisfied: cycler>=0.10.0 in /shared-libs/python3.7/py/lib/python3.7/site-packages (from yellowbrick) (0.10.0)\n",
      "Requirement already satisfied: scikit-learn>=0.20 in /shared-libs/python3.7/py/lib/python3.7/site-packages (from yellowbrick) (0.24.2)\n",
      "Requirement already satisfied: six in /shared-libs/python3.7/py-core/lib/python3.7/site-packages (from cycler>=0.10.0->yellowbrick) (1.16.0)\n",
      "Requirement already satisfied: kiwisolver>=1.0.1 in /shared-libs/python3.7/py/lib/python3.7/site-packages (from matplotlib!=3.0.0,>=2.0.2->yellowbrick) (1.3.1)\n",
      "Requirement already satisfied: python-dateutil>=2.7 in /shared-libs/python3.7/py-core/lib/python3.7/site-packages (from matplotlib!=3.0.0,>=2.0.2->yellowbrick) (2.8.1)\n",
      "Requirement already satisfied: pillow>=6.2.0 in /shared-libs/python3.7/py/lib/python3.7/site-packages (from matplotlib!=3.0.0,>=2.0.2->yellowbrick) (8.2.0)\n",
      "Requirement already satisfied: pyparsing>=2.2.1 in /shared-libs/python3.7/py-core/lib/python3.7/site-packages (from matplotlib!=3.0.0,>=2.0.2->yellowbrick) (2.4.7)\n",
      "Requirement already satisfied: joblib>=0.11 in /shared-libs/python3.7/py/lib/python3.7/site-packages (from scikit-learn>=0.20->yellowbrick) (1.0.1)\n",
      "Requirement already satisfied: threadpoolctl>=2.0.0 in /shared-libs/python3.7/py/lib/python3.7/site-packages (from scikit-learn>=0.20->yellowbrick) (2.1.0)\n",
      "\u001b[33mWARNING: You are using pip version 21.1.1; however, version 21.1.2 is available.\n",
      "You should consider upgrading via the '/root/venv/bin/python -m pip install --upgrade pip' command.\u001b[0m\n",
      "Requirement already satisfied: prettytable in /root/venv/lib/python3.7/site-packages (2.1.0)\n",
      "Requirement already satisfied: importlib-metadata in /shared-libs/python3.7/py-core/lib/python3.7/site-packages (from prettytable) (4.0.1)\n",
      "Requirement already satisfied: wcwidth in /shared-libs/python3.7/py-core/lib/python3.7/site-packages (from prettytable) (0.2.5)\n",
      "Requirement already satisfied: zipp>=0.5 in /shared-libs/python3.7/py-core/lib/python3.7/site-packages (from importlib-metadata->prettytable) (3.4.1)\n",
      "Requirement already satisfied: typing-extensions>=3.6.4 in /shared-libs/python3.7/py-core/lib/python3.7/site-packages (from importlib-metadata->prettytable) (3.10.0.0)\n",
      "\u001b[33mWARNING: You are using pip version 21.1.1; however, version 21.1.2 is available.\n",
      "You should consider upgrading via the '/root/venv/bin/python -m pip install --upgrade pip' command.\u001b[0m\n"
     ]
    }
   ],
   "source": [
    "!pip install yellowbrick\n",
    "!pip install prettytable"
   ]
  },
  {
   "cell_type": "code",
   "execution_count": null,
   "metadata": {
    "cell_id": "00001-2a9be9aa-5041-4a0f-987f-aabe90971625",
    "deepnote_cell_type": "code",
    "deepnote_to_be_reexecuted": false,
    "execution_millis": 3574,
    "execution_start": 1621942436558,
    "source_hash": "aaa792f0"
   },
   "outputs": [],
   "source": [
    "import os\n",
    "import numpy as np\n",
    "from numpy import arange, absolute, mean\n",
    "import pandas as pd\n",
    "import seaborn as sns\n",
    "import matplotlib.pyplot as plt\n",
    "import matplotlib.ticker as ticker\n",
    "from collections import defaultdict\n",
    "from IPython.display import Image\n",
    "from sklearn import linear_model\n",
    "from sklearn.linear_model import LinearRegression, Ridge, RidgeCV, Lasso, LassoCV\n",
    "from sklearn.model_selection import train_test_split, GridSearchCV, RepeatedKFold, KFold, cross_val_score\n",
    "from sklearn.feature_selection import SelectKBest, SelectFromModel, f_regression \n",
    "from sklearn.metrics import mean_squared_error, mean_absolute_error, mean_absolute_percentage_error\n",
    "from sklearn.preprocessing import MinMaxScaler\n",
    "from prettytable import PrettyTable\n",
    "from yellowbrick.datasets import load_concrete\n",
    "from yellowbrick.regressor import AlphaSelection"
   ]
  },
  {
   "cell_type": "code",
   "execution_count": null,
   "metadata": {
    "cell_id": "00002-97aa5936-146a-4a88-9510-f89419d95674",
    "deepnote_cell_type": "code",
    "deepnote_to_be_reexecuted": false,
    "execution_millis": 1,
    "execution_start": 1621942440144,
    "source_hash": "d38c7e54"
   },
   "outputs": [],
   "source": [
    "#os.chdir(\"/Users/jpzahn/Documents/FIFA Data\")"
   ]
  },
  {
   "cell_type": "code",
   "execution_count": null,
   "metadata": {
    "cell_id": "00003-57da99ca-7d85-4c8f-a2f2-788de37747af",
    "deepnote_cell_type": "code",
    "deepnote_to_be_reexecuted": false,
    "execution_millis": 675,
    "execution_start": 1621942440166,
    "scrolled": true,
    "source_hash": "a950f5b4"
   },
   "outputs": [],
   "source": [
    "full_data = pd.read_csv(\"model_data.csv\")\n",
    "gk_df = pd.read_csv(\"gk_df.csv\")\n",
    "field_df = pd.read_csv(\"field_df.csv\")"
   ]
  },
  {
   "cell_type": "code",
   "execution_count": null,
   "metadata": {
    "cell_id": "00004-119b6d66-5014-452f-a75a-5378d4beed76",
    "deepnote_cell_type": "code",
    "deepnote_to_be_reexecuted": false,
    "execution_millis": 34,
    "execution_start": 1621942440849,
    "source_hash": "239c9148"
   },
   "outputs": [],
   "source": [
    "#create goalkeeper dataframe by selecting players with corresponding position index\n",
    "gk_df = full_data[full_data.position_dummy == 1]\n",
    "gk_df = gk_df[[\"long_name\",\"age\", \"height_cm\", \"weight_kg\", \"value_eur\", \"gk_diving\", \"gk_handling\", \"gk_kicking\", \"gk_reflexes\", \"gk_speed\", \"gk_positioning\", \"movement_acceleration\", \"movement_sprint_speed\", \"movement_agility\", \"movement_reactions\", \"movement_balance\", \"power_shot_power\", \"power_jumping\", \"power_stamina\", \"power_strength\", \"power_long_shots\", \"mentality_vision\", \"mentality_penalties\", \"mentality_composure\", \"number_of_traits\"]]"
   ]
  },
  {
   "cell_type": "code",
   "execution_count": null,
   "metadata": {
    "cell_id": "00005-dabae8ee-9125-4969-a8c4-47644711bf04",
    "deepnote_cell_type": "code",
    "deepnote_to_be_reexecuted": false,
    "execution_millis": 49,
    "execution_start": 1621942440902,
    "source_hash": "d0516aeb"
   },
   "outputs": [],
   "source": [
    "field_df = full_data[full_data.position_dummy != 1]\n",
    "field_df = field_df.drop([\"Unnamed: 0\", \"sofifa_id\", \"gk_diving\", \"gk_handling\", \"gk_kicking\", \"gk_reflexes\", \"gk_speed\", \"gk_positioning\", \"international_reputation\", \"position_dummy\", \"preferred_foot\"],axis=1)"
   ]
  },
  {
   "cell_type": "code",
   "execution_count": null,
   "metadata": {
    "cell_id": "00006-a97cc77b-0b38-4a95-8b92-2b97e46346ed",
    "deepnote_cell_type": "code",
    "deepnote_to_be_reexecuted": false,
    "execution_millis": 20,
    "execution_start": 1621942440962,
    "source_hash": "f1a594f7"
   },
   "outputs": [],
   "source": [
    "#for later processing, create dictionaries containing players name/age and respective index in base dataframe\n",
    "name_gk = list(gk_df.long_name)\n",
    "index_gk = list(gk_df.index)\n",
    "gk_zip_iter = zip(index_gk, name_gk)\n",
    "gk_dict = dict(gk_zip_iter)\n",
    "\n",
    "name_field = list(field_df.long_name)\n",
    "index_field = list(field_df.index)\n",
    "field_zip_iter = zip(index_field, name_field)\n",
    "field_dict = dict(field_zip_iter)"
   ]
  },
  {
   "cell_type": "code",
   "execution_count": null,
   "metadata": {
    "cell_id": "00007-080796ce-85c8-4c28-b518-a82a8daf1326",
    "deepnote_cell_type": "code",
    "deepnote_to_be_reexecuted": false,
    "execution_millis": 22,
    "execution_start": 1621942440989,
    "source_hash": "3061539c"
   },
   "outputs": [],
   "source": [
    "age_gk = list(gk_df.age)\n",
    "gk_age_zip_iter = zip(index_gk, age_gk)\n",
    "gk_age_dict = dict(gk_age_zip_iter)\n",
    "gk_df= gk_df.drop([\"long_name\"], axis=1)\n",
    "\n",
    "age_field = list(field_df.age)\n",
    "field_age_zip_iter = zip(index_field, age_field)\n",
    "field_age_dict = dict(field_age_zip_iter)\n",
    "field_df = field_df.drop([\"long_name\"],axis = 1)"
   ]
  },
  {
   "cell_type": "code",
   "execution_count": null,
   "metadata": {
    "cell_id": "00008-83ec4a40-4e38-4b0b-b418-526299bef3f6",
    "deepnote_cell_type": "code",
    "deepnote_to_be_reexecuted": false,
    "execution_millis": 10,
    "execution_start": 1621942441018,
    "source_hash": "b19cbb58"
   },
   "outputs": [],
   "source": [
    "gk_df = gk_df.astype(float)\n",
    "field_df = field_df.astype(float)"
   ]
  },
  {
   "cell_type": "markdown",
   "metadata": {
    "cell_id": "00009-15ee1a46-e109-4e6a-89b9-389a1e236819",
    "deepnote_cell_type": "markdown"
   },
   "source": [
    "## Regression"
   ]
  },
  {
   "cell_type": "markdown",
   "metadata": {
    "cell_id": "00010-d95ae655-5859-4833-ac94-d776a15edefb",
    "deepnote_cell_type": "markdown"
   },
   "source": [
    "Linear regression most simple predictive model, by creating linear combination of independent features accounted for with a specific weight, finally predicting a dependent variable. Loss function to be minimized with OLS, sum of squared residuals. \n",
    "\n",
    "Linear regression might underfit, a model that is too sophisticated might overfit. Therefore, as previously introduced, regularizing a regression model is very suitable for a lot of scenarios. The overall technique is trying to reduce the variance of predictors by penalizing the coefficients of features when the corresponding value is too high, by reducing them and their impact on the dependent variable.\n",
    "\n",
    "a) L1 (Lasso = Least Absolute Shrinkage and Selection Operator) Regularization\n",
    "\n",
    "Lasso simultaneously regularizes and selects the features, therefore outputs a sparse model. Especially reasonable when multicollineartity is given in the data. Feature selection in that sense that features with a coefficient of 0 wont be considered forthgoing. By setting (normalize = True), automatically performs feature scaling.\n",
    "\n",
    "The loss function (e.g. MSE) only considers absolute values of estimators, high ones are being penalized.\n",
    "\n",
    "Danger --> correlation in the data will lead to one remaining feature, while the rest of coefficients will be 0. Possible data/information loss.\n",
    "\n",
    "b) L2 (Ridge) Regularization\n",
    "\n",
    "Ridge minimizes the loss function (MSE) by adding a penalty to the coefficient which corresponds to the coef-square plus a parameter (alpha) controlling the penalizing. However, contrarily to Lasso, does not reduce model complexity by not eliminating features (as nothing is set to 0 straight). Mostly leads to low variance and low bias, nearly always reduce overfitting. Parameter is chosen by cross- validation error. If parameter is 0, model will correspond to Linear Regression\n",
    "\n",
    "Lasso regression can exclude useless variables from equation and it is a little better that ridge regression at reducing the variance in the models that contain a lot of useless variables In contrast, Ridge regression tends to do a little better when most variables are useful."
   ]
  },
  {
   "cell_type": "markdown",
   "metadata": {
    "cell_id": "00011-17dab7a9-8c0e-41ca-983c-877dcf1261ce",
    "deepnote_cell_type": "markdown"
   },
   "source": [
    "#### Scaling"
   ]
  },
  {
   "cell_type": "markdown",
   "metadata": {
    "cell_id": "00012-48252781-8ca9-4817-919d-b2e57ec51ca5",
    "deepnote_cell_type": "markdown"
   },
   "source": [
    "An important note before applying the models: Usually, especially large datasets including variables of different value ranges and magnitudes require a transformation prior to the model-execution. The reason behind that is to achieve comparability between the variables themselves and therefore finally the ability for the applier to interpret the results in a correct way. In the case of the FIFA dataset however, due to the large data cleaning and the fact that the majority of the variables are per-se within a range of 1 to 99, this could be perceived as not necessary. However, due to the fact that regularization techniques are gonna be applied, scaling is necessary in this case. For Linear regression, scaling is performed equally for consistency reasons. "
   ]
  },
  {
   "cell_type": "code",
   "execution_count": null,
   "metadata": {
    "cell_id": "00013-770099ef-4a70-4175-9e57-69a8252d3381",
    "deepnote_cell_type": "code",
    "deepnote_to_be_reexecuted": false,
    "execution_millis": 21,
    "execution_start": 1621942441034,
    "source_hash": "c6dc7b3"
   },
   "outputs": [],
   "source": [
    "X_gk = gk_df.drop(\"value_eur\",axis=1)\n",
    "y_gk = gk_df.value_eur\n",
    "\n",
    "X_field = field_df.drop(\"value_eur\",axis=1)\n",
    "y_field = field_df.value_eur"
   ]
  },
  {
   "cell_type": "code",
   "execution_count": null,
   "metadata": {
    "cell_id": "00014-cf4dddb2-6fec-426e-851a-13e38c5dda09",
    "deepnote_cell_type": "code",
    "deepnote_to_be_reexecuted": false,
    "execution_millis": 20,
    "execution_start": 1621942441060,
    "source_hash": "3faa5ea2"
   },
   "outputs": [],
   "source": [
    "X_gk_train, X_gk_test, y_gk_train, y_gk_test = train_test_split(X_gk, y_gk, test_size = (1/3), random_state = 42)\n",
    "X_field_train, X_field_test, y_field_train, y_field_test = train_test_split(X_field, y_field, test_size = (1/3), random_state = 42)"
   ]
  },
  {
   "cell_type": "markdown",
   "metadata": {
    "cell_id": "00015-5586cd10-c4d9-4653-ac94-e2edb108afc4",
    "deepnote_cell_type": "markdown"
   },
   "source": [
    "This data will be used for Lasso and Ridge, as by setting (normalize = True), scaling is performed straight within the function. For LinReg scaling is not really necessary, but done for consistency reasons throughout the project. Store the scaled data in separate objects."
   ]
  },
  {
   "cell_type": "code",
   "execution_count": null,
   "metadata": {
    "cell_id": "00016-e590285a-5882-4578-9a15-87d4141a96cd",
    "deepnote_cell_type": "code",
    "deepnote_to_be_reexecuted": false,
    "execution_millis": 35,
    "execution_start": 1621942441090,
    "source_hash": "8a220064"
   },
   "outputs": [],
   "source": [
    "gk_mms = MinMaxScaler()\n",
    "X_gk_train_sc = gk_mms.fit_transform(X_gk_train)\n",
    "X_gk_test_sc = gk_mms.transform(X_gk_test)"
   ]
  },
  {
   "cell_type": "code",
   "execution_count": null,
   "metadata": {
    "cell_id": "00017-8074e57c-0368-43d6-85c9-07ef60e59717",
    "deepnote_cell_type": "code",
    "deepnote_to_be_reexecuted": false,
    "execution_millis": 28,
    "execution_start": 1621942441132,
    "source_hash": "a6fca857"
   },
   "outputs": [],
   "source": [
    "field_mms = MinMaxScaler()\n",
    "X_field_train_sc = field_mms.fit_transform(X_field_train)\n",
    "X_field_test_sc = field_mms.transform(X_field_test)"
   ]
  },
  {
   "cell_type": "code",
   "execution_count": null,
   "metadata": {
    "cell_id": "00018-8ec5389e-af9a-4602-a78f-d322cfda50a0",
    "deepnote_cell_type": "code",
    "deepnote_to_be_reexecuted": false,
    "execution_millis": 28,
    "execution_start": 1621942441171,
    "source_hash": "af7a8229"
   },
   "outputs": [],
   "source": [
    "cols_gk = X_gk.columns\n",
    "cols_field = X_field.columns\n",
    "\n",
    "X_gk_train_sc = pd.DataFrame(X_gk_train_sc, columns = cols_gk)\n",
    "X_gk_test_sc = pd.DataFrame(X_gk_test_sc, columns = cols_gk)\n",
    "X_field_train_sc = pd.DataFrame(X_field_train_sc, columns = cols_field)\n",
    "X_field_test_sc = pd.DataFrame(X_field_test_sc, columns = cols_field)"
   ]
  },
  {
   "cell_type": "markdown",
   "metadata": {
    "cell_id": "00019-85d7d26b-80b9-40b4-a651-444f9b33d15d",
    "deepnote_cell_type": "markdown"
   },
   "source": [
    "### a) Linear"
   ]
  },
  {
   "cell_type": "code",
   "execution_count": null,
   "metadata": {
    "cell_id": "00020-2bd5c3f5-2092-447f-8a36-b381d2e43964",
    "deepnote_cell_type": "code",
    "deepnote_to_be_reexecuted": false,
    "execution_millis": 70,
    "execution_start": 1621942441205,
    "source_hash": "ecf1064b"
   },
   "outputs": [
    {
     "data": {
      "text/plain": [
       "LinearRegression()"
      ]
     },
     "execution_count": 15,
     "metadata": {},
     "output_type": "execute_result"
    }
   ],
   "source": [
    "#create a linreg object for the goalkeeper dataset and fit it to the corresponding training data\n",
    "reg_gk = LinearRegression()\n",
    "reg_gk.fit(X_gk_train_sc, y_gk_train)"
   ]
  },
  {
   "cell_type": "code",
   "execution_count": null,
   "metadata": {
    "cell_id": "00021-925cd1ae-d2c6-4731-8cfb-e4dc8cafc3b9",
    "deepnote_cell_type": "code",
    "deepnote_to_be_reexecuted": false,
    "execution_millis": 87,
    "execution_start": 1621942441270,
    "source_hash": "de32a1f0"
   },
   "outputs": [
    {
     "data": {
      "text/plain": [
       "LinearRegression()"
      ]
     },
     "execution_count": 16,
     "metadata": {},
     "output_type": "execute_result"
    }
   ],
   "source": [
    "reg_field = LinearRegression()\n",
    "reg_field.fit(X_field_train_sc, y_field_train)"
   ]
  },
  {
   "cell_type": "markdown",
   "metadata": {
    "cell_id": "00022-f6f76a7b-e357-4d00-8b7d-4be3c9c2847f",
    "deepnote_cell_type": "markdown"
   },
   "source": [
    "We want to perform a cross validation to see if the model is stable across different test data textures. \n",
    "\n",
    "Later, we will perform Repeated KFold cross validation for Ridge and Lasso regression, as both types require the optimization of its parameter. Therefore, the RKFold can be combined with a grid search for the hyperparameter tuning. For the linear model, the usual cross validation with KFold is sufficient."
   ]
  },
  {
   "cell_type": "code",
   "execution_count": null,
   "metadata": {
    "cell_id": "00023-5579e7e8-1a17-4974-b71d-801ba21b9405",
    "deepnote_cell_type": "code",
    "deepnote_to_be_reexecuted": false,
    "execution_millis": 634,
    "execution_start": 1621942441358,
    "source_hash": "4be7c4ba"
   },
   "outputs": [],
   "source": [
    "gk_linreg_folds = KFold(n_splits = 4, shuffle = True, random_state = 42)\n",
    "field_linreg_folds = KFold(n_splits = 4, shuffle = True, random_state = 42)\n",
    "gk_linreg_scores = cross_val_score(reg_gk, X_gk_train_sc, y_gk_train, scoring='r2', cv=gk_linreg_folds)\n",
    "field_linreg_scores = cross_val_score(reg_field, X_field_train_sc, y_field_train, scoring=\"r2\", cv=field_linreg_folds)"
   ]
  },
  {
   "cell_type": "code",
   "execution_count": null,
   "metadata": {
    "cell_id": "00024-1a242f20-2bb6-488f-87e2-90271d214048",
    "deepnote_cell_type": "code",
    "deepnote_to_be_reexecuted": false,
    "execution_millis": 63,
    "execution_start": 1621942442008,
    "scrolled": true,
    "source_hash": "9c5b9f9a"
   },
   "outputs": [
    {
     "data": {
      "text/plain": [
       "(array([0.96101712, 0.95974147, 0.95877214, 0.96238128]),\n",
       " array([0.86254557, 0.86302529, 0.86647665, 0.86573345]))"
      ]
     },
     "execution_count": 18,
     "metadata": {},
     "output_type": "execute_result"
    }
   ],
   "source": [
    "gk_linreg_scores, field_linreg_scores"
   ]
  },
  {
   "cell_type": "markdown",
   "metadata": {
    "cell_id": "00025-393a83d1-a4e7-49e4-821e-3430b1124026",
    "deepnote_cell_type": "markdown"
   },
   "source": [
    "As we can observe, the model performance is stable in the case of both datasets. "
   ]
  },
  {
   "cell_type": "code",
   "execution_count": null,
   "metadata": {
    "cell_id": "00026-e37a260f-a847-45c5-ad84-bca034bfb05a",
    "deepnote_cell_type": "code",
    "deepnote_to_be_reexecuted": false,
    "execution_millis": 53,
    "execution_start": 1621942442086,
    "source_hash": "6b4d4fa5"
   },
   "outputs": [],
   "source": [
    "#run the model on the test data for both datasets\n",
    "y_pred_reg_gk = reg_gk.predict(X_gk_test_sc)\n",
    "y_pred_reg_field = reg_field.predict(X_field_test_sc)"
   ]
  },
  {
   "cell_type": "code",
   "execution_count": null,
   "metadata": {
    "cell_id": "00027-cb25d2d4-5251-45be-9dc1-7c8f92c7aafc",
    "deepnote_cell_type": "code",
    "deepnote_to_be_reexecuted": false,
    "execution_millis": 80,
    "execution_start": 1621942442158,
    "source_hash": "93bad4ab"
   },
   "outputs": [],
   "source": [
    "#compare the model accuracy with R-squared on training and test data for both datasets\n",
    "reg_rsq_gk_train = reg_gk.score(X_gk_train_sc, y_gk_train)\n",
    "reg_rsq_field_train = reg_field.score(X_field_train_sc, y_field_train)\n",
    "reg_rsq_gk_test = reg_gk.score(X_gk_test_sc, y_gk_test)\n",
    "reg_rsq_field_test = reg_field.score(X_field_test_sc, y_field_test)"
   ]
  },
  {
   "cell_type": "code",
   "execution_count": null,
   "metadata": {
    "cell_id": "00028-bbd11e33-7ebc-45e1-a8ed-6a949d243f4e",
    "deepnote_cell_type": "code",
    "deepnote_to_be_reexecuted": false,
    "execution_millis": 45,
    "execution_start": 1621942442253,
    "source_hash": "6bf7fd56"
   },
   "outputs": [
    {
     "data": {
      "text/plain": [
       "(0.9621644918911548, 0.8656386348496493)"
      ]
     },
     "execution_count": 21,
     "metadata": {},
     "output_type": "execute_result"
    }
   ],
   "source": [
    "reg_rsq_gk_train, reg_rsq_field_train"
   ]
  },
  {
   "cell_type": "code",
   "execution_count": null,
   "metadata": {
    "cell_id": "00029-cde3e041-3aa1-4b57-a772-47ddb00efcb2",
    "deepnote_cell_type": "code",
    "deepnote_to_be_reexecuted": false,
    "execution_millis": 99,
    "execution_start": 1621942442307,
    "source_hash": "a25d8c3e"
   },
   "outputs": [
    {
     "data": {
      "text/plain": [
       "(0.9571310311949068, 0.8630962170998951)"
      ]
     },
     "execution_count": 22,
     "metadata": {},
     "output_type": "execute_result"
    }
   ],
   "source": [
    "reg_rsq_gk_test, reg_rsq_field_test"
   ]
  },
  {
   "cell_type": "code",
   "execution_count": null,
   "metadata": {
    "cell_id": "00030-237f34c4-3055-48e2-b6bf-6df209ff70b3",
    "deepnote_cell_type": "code",
    "deepnote_to_be_reexecuted": false,
    "execution_millis": 0,
    "execution_start": 1621942442406,
    "source_hash": "874b40ea"
   },
   "outputs": [],
   "source": [
    "#compute evaluation metrics MSE, RMSE, MAE and MAPE for model execution on both datasets\n",
    "mse_linreg_gk = mean_squared_error(y_gk_test, y_pred_reg_gk, squared = True)\n",
    "rmse_linreg_gk = mean_squared_error(y_gk_test, y_pred_reg_gk, squared = False)\n",
    "\n",
    "mse_linreg_field = mean_squared_error(y_field_test, y_pred_reg_field, squared = True)\n",
    "rmse_linreg_field = mean_squared_error(y_field_test, y_pred_reg_field, squared = False)\n",
    "\n",
    "mae_linreg_gk = mean_absolute_error(y_gk_test, y_pred_reg_gk)\n",
    "mape_linreg_gk = mean_absolute_percentage_error(y_gk_test, y_pred_reg_gk)\n",
    "\n",
    "mae_linreg_field = mean_absolute_error(y_field_test, y_pred_reg_field)\n",
    "mape_linreg_field = mean_absolute_percentage_error(y_field_test, y_pred_reg_field)"
   ]
  },
  {
   "cell_type": "code",
   "execution_count": null,
   "metadata": {
    "cell_id": "00031-73a9a762-9fdd-41ea-8d22-823efe0df439",
    "deepnote_cell_type": "code",
    "deepnote_to_be_reexecuted": false,
    "execution_millis": 23,
    "execution_start": 1621942442450,
    "source_hash": "87c22eb0"
   },
   "outputs": [
    {
     "data": {
      "text/plain": [
       "(0.0925917853456644, 0.25553688236164723)"
      ]
     },
     "execution_count": 24,
     "metadata": {},
     "output_type": "execute_result"
    }
   ],
   "source": [
    "mse_linreg_gk, mse_linreg_field"
   ]
  },
  {
   "cell_type": "code",
   "execution_count": null,
   "metadata": {
    "cell_id": "00032-853e3457-d6af-4275-a9f1-cc17207d9e5c",
    "deepnote_cell_type": "code",
    "deepnote_to_be_reexecuted": false,
    "execution_millis": 9,
    "execution_start": 1621942442522,
    "source_hash": "290aa49d"
   },
   "outputs": [
    {
     "data": {
      "text/plain": [
       "(0.30428898328014503, 0.5055065601568858)"
      ]
     },
     "execution_count": 25,
     "metadata": {},
     "output_type": "execute_result"
    }
   ],
   "source": [
    "rmse_linreg_gk, rmse_linreg_field"
   ]
  },
  {
   "cell_type": "code",
   "execution_count": null,
   "metadata": {
    "cell_id": "00033-e3d350f3-7254-4209-ba67-46bc580a111d",
    "deepnote_cell_type": "code",
    "deepnote_to_be_reexecuted": false,
    "execution_millis": 45,
    "execution_start": 1621942442523,
    "source_hash": "d2c904fc"
   },
   "outputs": [
    {
     "data": {
      "text/plain": [
       "(0.23871987458619756, 0.40202271820396157)"
      ]
     },
     "execution_count": 26,
     "metadata": {},
     "output_type": "execute_result"
    }
   ],
   "source": [
    "mae_linreg_gk, mae_linreg_field"
   ]
  },
  {
   "cell_type": "code",
   "execution_count": null,
   "metadata": {
    "cell_id": "00034-12e417ec-6be6-4197-be69-56fa514d3b19",
    "deepnote_cell_type": "code",
    "deepnote_to_be_reexecuted": false,
    "execution_millis": 3,
    "execution_start": 1621942442570,
    "source_hash": "1cdad953"
   },
   "outputs": [
    {
     "data": {
      "text/plain": [
       "(0.018645381070779215, 0.02986229231318895)"
      ]
     },
     "execution_count": 27,
     "metadata": {},
     "output_type": "execute_result"
    }
   ],
   "source": [
    "mape_linreg_gk, mape_linreg_field"
   ]
  },
  {
   "cell_type": "markdown",
   "metadata": {
    "cell_id": "00035-2d6dc668-6697-4c46-8093-36426271246b",
    "deepnote_cell_type": "markdown"
   },
   "source": [
    "An important evaluation criterion is the distribution of the residuals of the regression. Therefore, we want to display a histogram for both datasets. A good indicator of a well-fitting modedl is a normal distribution centered around 0."
   ]
  },
  {
   "cell_type": "markdown",
   "metadata": {
    "cell_id": "00036-f307eb71-11fd-48aa-a913-4bbd986458c6",
    "deepnote_cell_type": "markdown"
   },
   "source": [
    "#### Evaluation of residuals"
   ]
  },
  {
   "cell_type": "code",
   "execution_count": null,
   "metadata": {
    "cell_id": "00037-40c38370-bc1d-490f-8c97-4373da3a67e4",
    "deepnote_cell_type": "code",
    "deepnote_to_be_reexecuted": false,
    "execution_millis": 435,
    "execution_start": 1621942442645,
    "source_hash": "ab15e064"
   },
   "outputs": [
    {
     "data": {
      "text/plain": [
       "(array([ 8., 22., 21., 46., 66., 77., 97., 71., 86., 57., 42., 31., 19.,\n",
       "        20.,  4.,  5.,  6.,  2.,  4.,  1.]),\n",
       " array([-0.68520263, -0.5939698 , -0.50273696, -0.41150413, -0.3202713 ,\n",
       "        -0.22903846, -0.13780563, -0.0465728 ,  0.04466004,  0.13589287,\n",
       "         0.2271257 ,  0.31835854,  0.40959137,  0.5008242 ,  0.59205704,\n",
       "         0.68328987,  0.7745227 ,  0.86575554,  0.95698837,  1.0482212 ,\n",
       "         1.13945403]),\n",
       " <BarContainer object of 20 artists>)"
      ]
     },
     "execution_count": 28,
     "metadata": {},
     "output_type": "execute_result"
    },
    {
     "name": "stderr",
     "output_type": "stream",
     "text": [
      "findfont: Font family ['sans-serif'] not found. Falling back to DejaVu Sans.\n",
      "findfont: Generic family 'sans-serif' not found because none of the following families were found: Arial, Liberation Sans, Bitstream Vera Sans, sans-serif\n"
     ]
    },
    {
     "data": {
      "image/png": "[encoded data removed]",
      "text/plain": [
       "<Figure size 576x396 with 1 Axes>"
      ]
     },
     "metadata": {
      "image/png": {
       "height": 330,
       "width": 486
      }
     },
     "output_type": "display_data"
    }
   ],
   "source": [
    "plt.hist(y_pred_reg_gk - y_gk_test,bins=20)"
   ]
  },
  {
   "cell_type": "code",
   "execution_count": null,
   "metadata": {
    "cell_id": "00038-5cecda78-c95d-46ed-a790-f1c7d2934ad8",
    "deepnote_cell_type": "code",
    "deepnote_to_be_reexecuted": false,
    "execution_millis": 385,
    "execution_start": 1621942443096,
    "source_hash": "1ad0329d"
   },
   "outputs": [
    {
     "data": {
      "text/plain": [
       "(array([  1.,   1.,   7.,   8.,  28.,  61., 100., 193., 357., 470., 646.,\n",
       "        721., 768., 691., 598., 389., 238., 143.,  75.,  29.,  17.,   8.,\n",
       "          1.,   0.,   1.]),\n",
       " array([-2.10350149, -1.9303027 , -1.75710391, -1.58390512, -1.41070633,\n",
       "        -1.23750754, -1.06430874, -0.89110995, -0.71791116, -0.54471237,\n",
       "        -0.37151358, -0.19831478, -0.02511599,  0.1480828 ,  0.32128159,\n",
       "         0.49448038,  0.66767917,  0.84087797,  1.01407676,  1.18727555,\n",
       "         1.36047434,  1.53367313,  1.70687193,  1.88007072,  2.05326951,\n",
       "         2.2264683 ]),\n",
       " <BarContainer object of 25 artists>)"
      ]
     },
     "execution_count": 29,
     "metadata": {},
     "output_type": "execute_result"
    },
    {
     "data": {
      "image/png": "[encoded data removed]",
      "text/plain": [
       "<Figure size 576x396 with 1 Axes>"
      ]
     },
     "metadata": {
      "image/png": {
       "height": 332,
       "width": 486
      }
     },
     "output_type": "display_data"
    }
   ],
   "source": [
    "plt.hist(y_pred_reg_field - y_field_test,bins=25)"
   ]
  },
  {
   "cell_type": "markdown",
   "metadata": {
    "cell_id": "00039-aa751a35-c9fd-4a3c-a449-d91c2664a016",
    "deepnote_cell_type": "markdown"
   },
   "source": [
    "We can see that both histograms follow a distribution that resembles a normal distribution, while the fieldplayer dataset residuals are almost perfectly normally distributed. The goalkeeper residuals are a little bit heavy tailed on the left and right side, but this is not perceived as serious issue."
   ]
  },
  {
   "cell_type": "markdown",
   "metadata": {
    "cell_id": "00040-8c40fe60-24d6-4c5b-9195-d73d4eacc8e0",
    "deepnote_cell_type": "markdown"
   },
   "source": [
    "A common principle within machine learning algorithms is feature selection, which allows the user to reduce the complexity of the model by only selecting those variables which correspond to a high importance for the target variable. Due to the fact that regularization techniques will be executed afterwards, this is to be neglected. Regularization achieves a similar outcome by modifying the features coefficients and based on that account for their importance."
   ]
  },
  {
   "cell_type": "markdown",
   "metadata": {
    "cell_id": "00041-84642e6b-df65-4308-a17d-3b9b3fdd0c4a",
    "deepnote_cell_type": "markdown"
   },
   "source": [
    "### b) Lasso"
   ]
  },
  {
   "cell_type": "markdown",
   "metadata": {
    "cell_id": "00042-c0027dee-5f12-48c6-8dd6-c0cab6a87a5d",
    "deepnote_cell_type": "markdown"
   },
   "source": [
    "We now perform a first possible regularization approach. Theory has been previously introduced. The execution process of the model itself is similar to the linear regression model, therefore we dispense further commentation as for now. \n",
    "\n",
    "We do not need to perform feature selection at this point, as Lasso does this on its own. \n",
    "\n",
    "In order to maximize the power of the model, we perform some tests on the data in order to receive the optimal value for the parameter alpha.\n",
    "\n",
    "α can take various values:\n",
    "\n",
    "1) α = 0:\n",
    "The objective becomes same as simple linear regression.\n",
    "We’ll get the same coefficients as simple linear regression.\n",
    "\n",
    "2) α = ∞:\n",
    "The coefficients will be zero. Because of infinite weightage on absolute value of coefficients, anything less than zero will make the objective infinite.\n",
    "\n",
    "3) 0 < α < ∞:\n",
    "The magnitude of α will decide the weightage given to different parts of objective.\n",
    "The coefficients will be somewhere between 0 and ones for simple linear regression.\n",
    "\n",
    "Since MAE is an error metric, i.e. the lower the better, negative MAE is the opposite: a value of -2.6 is better than a value of -3.0.\n",
    "\n"
   ]
  },
  {
   "cell_type": "code",
   "execution_count": null,
   "metadata": {
    "cell_id": "00043-9f11f875-7181-4ec2-a110-0543a1e55344",
    "deepnote_cell_type": "code",
    "deepnote_to_be_reexecuted": false,
    "execution_millis": 11,
    "execution_start": 1621942443473,
    "source_hash": "60c125e1"
   },
   "outputs": [],
   "source": [
    "lasso_gk = linear_model.Lasso(alpha=1, max_iter=10000, normalize = True)\n",
    "lasso_field = linear_model.Lasso(alpha=1, max_iter=10000, normalize=True)"
   ]
  },
  {
   "cell_type": "markdown",
   "metadata": {
    "cell_id": "00044-4ea870f7-9aad-4e75-b55f-1c7b9796e9eb",
    "deepnote_cell_type": "markdown"
   },
   "source": [
    " Perform 10-fold cross-validation to choose the best alpha, refit the model, and compute the associated test error"
   ]
  },
  {
   "cell_type": "markdown",
   "metadata": {
    "cell_id": "00045-afbb835f-e4f9-493a-98a7-c4ed7b1ced1b",
    "deepnote_cell_type": "markdown"
   },
   "source": [
    "#### Goalkeeper Data"
   ]
  },
  {
   "cell_type": "code",
   "execution_count": null,
   "metadata": {
    "cell_id": "00046-560bb4ca-f850-4493-a48e-f07b2055259c",
    "deepnote_cell_type": "code",
    "deepnote_to_be_reexecuted": false,
    "execution_millis": 821,
    "execution_start": 1621942443485,
    "source_hash": "88fe80d2"
   },
   "outputs": [],
   "source": [
    "lassocv_gk = LassoCV(alphas = None, cv = 10, max_iter = 100000, normalize = True)\n",
    "lassocv_gk.fit(X_gk_train, y_gk_train)\n",
    "\n",
    "#set the parameter chosen by lassocv\n",
    "lasso_gk.set_params(alpha=lassocv_gk.alpha_)\n",
    "\n",
    "#fit the model with the alpha chosen by LassoCv\n",
    "lasso_gk.fit(X_gk_train, y_gk_train)\n",
    "\n",
    "y_gk_pred_lasso = lasso_gk.predict(X_gk_test)"
   ]
  },
  {
   "cell_type": "code",
   "execution_count": null,
   "metadata": {
    "cell_id": "00047-47c263fa-935e-49a4-a043-aaac15e949b3",
    "deepnote_cell_type": "code",
    "deepnote_to_be_reexecuted": false,
    "execution_millis": 1387,
    "execution_start": 1621942444330,
    "source_hash": "3b1abd32"
   },
   "outputs": [
    {
     "name": "stderr",
     "output_type": "stream",
     "text": [
      "findfont: Font family ['sans-serif'] not found. Falling back to DejaVu Sans.\n",
      "findfont: Generic family 'sans-serif' not found because none of the following families were found: Arial, Liberation Sans, Bitstream Vera Sans, sans-serif\n",
      "findfont: Font family ['sans-serif'] not found. Falling back to DejaVu Sans.\n",
      "findfont: Generic family 'sans-serif' not found because none of the following families were found: Arial, Liberation Sans, Bitstream Vera Sans, sans-serif\n",
      "Chosen alpha by tuning for goalkeeper data: 0.0001565416637330503\n"
     ]
    },
    {
     "data": {
      "image/png": "[encoded data removed]",
      "text/plain": [
       "<Figure size 576x396 with 1 Axes>"
      ]
     },
     "metadata": {
      "image/png": {
       "height": 360,
       "width": 504
      }
     },
     "output_type": "display_data"
    },
    {
     "data": {
      "text/plain": [
       "<AxesSubplot:title={'center':'LassoCV Alpha Error'}, xlabel='alpha', ylabel='error (or score)'>"
      ]
     },
     "execution_count": 32,
     "metadata": {},
     "output_type": "execute_result"
    }
   ],
   "source": [
    "visualizer_lassogk = AlphaSelection(lassocv_gk)\n",
    "visualizer_lassogk.fit(X_gk_train, y_gk_train)\n",
    "print(\"Chosen alpha by tuning for goalkeeper data:\", lasso_gk.alpha)\n",
    "visualizer_lassogk.show()"
   ]
  },
  {
   "cell_type": "code",
   "execution_count": null,
   "metadata": {
    "cell_id": "00048-519bf96b-b528-400e-9167-6394e161ea84",
    "deepnote_cell_type": "code",
    "deepnote_to_be_reexecuted": false,
    "execution_millis": 54,
    "execution_start": 1621942445773,
    "source_hash": "de48b0f8"
   },
   "outputs": [
    {
     "data": {
      "text/plain": [
       "age                     -0.113085\n",
       "height_cm                0.002403\n",
       "weight_kg                0.000000\n",
       "gk_diving                0.047677\n",
       "gk_handling              0.044879\n",
       "gk_kicking               0.000000\n",
       "gk_reflexes              0.053840\n",
       "gk_speed                 0.000000\n",
       "gk_positioning           0.038451\n",
       "movement_acceleration    0.002393\n",
       "movement_sprint_speed    0.000000\n",
       "movement_agility        -0.000119\n",
       "movement_reactions       0.021639\n",
       "movement_balance        -0.000000\n",
       "power_shot_power         0.012670\n",
       "power_jumping            0.000000\n",
       "power_stamina            0.000686\n",
       "power_strength           0.000207\n",
       "power_long_shots         0.000000\n",
       "mentality_vision         0.000023\n",
       "mentality_penalties      0.000000\n",
       "mentality_composure     -0.000622\n",
       "number_of_traits         0.000000\n",
       "dtype: float64"
      ]
     },
     "execution_count": 33,
     "metadata": {},
     "output_type": "execute_result"
    }
   ],
   "source": [
    "pd.Series(lasso_gk.coef_, index=X_gk.columns)"
   ]
  },
  {
   "cell_type": "markdown",
   "metadata": {
    "cell_id": "00049-393e42ab-d3f9-4299-92f3-2f5c8b1fc5e4",
    "deepnote_cell_type": "markdown",
    "tags": []
   },
   "source": [
    "The feature coefficients of lasso nicely visualize exactly which features are being considered by the model and which ones are being discarded by penalization leading to coefficients equal to 0. For instance, the weight, kicking, movement_sprint_speed, movement_balance, power_jumping or the penalty_mentality and the number of traits of a goalkeeper received a parameter equal to 0. "
   ]
  },
  {
   "cell_type": "code",
   "execution_count": null,
   "metadata": {
    "cell_id": "00049-2e61effb-e2de-4470-89fa-225561e6fc70",
    "deepnote_cell_type": "code",
    "deepnote_to_be_reexecuted": false,
    "execution_millis": 65,
    "execution_start": 1621942445818,
    "source_hash": "e0941efa"
   },
   "outputs": [],
   "source": [
    "lasso_rsq_gk_train = lasso_gk.score(X_gk_train, y_gk_train)\n",
    "lasso_rsq_gk_test = lasso_gk.score(X_gk_test, y_gk_test)\n",
    "mse_lasso_gk = mean_squared_error(y_gk_test,y_gk_pred_lasso,squared=True)\n",
    "rmse_lasso_gk = mean_squared_error(y_gk_test,y_gk_pred_lasso,squared=False)\n",
    "mae_lasso_gk = mean_absolute_error(y_gk_test,y_gk_pred_lasso)\n",
    "mape_lasso_gk = mean_absolute_percentage_error(y_gk_test,y_gk_pred_lasso)"
   ]
  },
  {
   "cell_type": "code",
   "execution_count": null,
   "metadata": {
    "cell_id": "00050-d72e5dd1-8679-41ca-8373-1a3cf5977330",
    "deepnote_cell_type": "code",
    "deepnote_to_be_reexecuted": false,
    "execution_millis": 21,
    "execution_start": 1621942445928,
    "source_hash": "f884c89a"
   },
   "outputs": [
    {
     "data": {
      "text/plain": [
       "(0.9618928088829595, 0.9575696087332664)"
      ]
     },
     "execution_count": 35,
     "metadata": {},
     "output_type": "execute_result"
    }
   ],
   "source": [
    "lasso_rsq_gk_train,lasso_rsq_gk_test"
   ]
  },
  {
   "cell_type": "code",
   "execution_count": null,
   "metadata": {
    "cell_id": "00051-dd9c65ca-544d-4fe7-a2c1-b3b285a121f9",
    "deepnote_cell_type": "code",
    "deepnote_to_be_reexecuted": false,
    "execution_millis": 61592946,
    "execution_start": 1621942445990,
    "source_hash": "e7f9fac4"
   },
   "outputs": [
    {
     "data": {
      "text/plain": [
       "(0.09164451093200053,\n",
       " 0.3027284442070162,\n",
       " 0.23513397579968337,\n",
       " 0.018358710405164257)"
      ]
     },
     "execution_count": 36,
     "metadata": {},
     "output_type": "execute_result"
    }
   ],
   "source": [
    "mse_lasso_gk, rmse_lasso_gk, mae_lasso_gk, mape_lasso_gk"
   ]
  },
  {
   "cell_type": "markdown",
   "metadata": {
    "cell_id": "00052-f6876632-f534-423c-81f4-8511c8d2af37",
    "deepnote_cell_type": "markdown"
   },
   "source": [
    "#### Fieldplayer Data"
   ]
  },
  {
   "cell_type": "code",
   "execution_count": null,
   "metadata": {
    "cell_id": "00053-1d4d5b78-5740-4aa0-9b24-d0379554b524",
    "deepnote_cell_type": "code",
    "deepnote_to_be_reexecuted": false,
    "execution_millis": 5708,
    "execution_start": 1621942445991,
    "source_hash": "de0f751e"
   },
   "outputs": [],
   "source": [
    "lassocv_field = LassoCV(alphas = None, cv = 10, max_iter = 100000, normalize = True)\n",
    "lassocv_field.fit(X_field_train, y_field_train)\n",
    "\n",
    "#set the parameter chosen by lassocv\n",
    "lasso_field.set_params(alpha=lassocv_field.alpha_)\n",
    "\n",
    "#fit the model with the alpha chosen by LassoCv\n",
    "lasso_field.fit(X_field_train, y_field_train)\n",
    "\n",
    "y_field_pred_lasso = lasso_field.predict(X_field_test)"
   ]
  },
  {
   "cell_type": "code",
   "execution_count": null,
   "metadata": {
    "cell_id": "00054-75892841-a042-4b1d-8b3b-bda1d8f6b4c0",
    "deepnote_cell_type": "code",
    "deepnote_to_be_reexecuted": false,
    "execution_millis": 799,
    "execution_start": 1621942451714,
    "source_hash": "f55d4bd6"
   },
   "outputs": [
    {
     "name": "stdout",
     "output_type": "stream",
     "text": [
      "Chosen alpha by tuning for fieldplayer data: 1.0626202237829496e-05\n"
     ]
    },
    {
     "data": {
      "image/png": "[encoded data removed]",
      "text/plain": [
       "<Figure size 576x396 with 1 Axes>"
      ]
     },
     "metadata": {
      "image/png": {
       "height": 360,
       "width": 497
      }
     },
     "output_type": "display_data"
    },
    {
     "data": {
      "text/plain": [
       "<AxesSubplot:title={'center':'LassoCV Alpha Error'}, xlabel='alpha', ylabel='error (or score)'>"
      ]
     },
     "execution_count": 38,
     "metadata": {},
     "output_type": "execute_result"
    }
   ],
   "source": [
    "visualizer_lassofield = AlphaSelection(lassocv_field)\n",
    "visualizer_lassofield.fit(X_field_train, y_field_train)\n",
    "print(\"Chosen alpha by tuning for fieldplayer data:\",lasso_field.alpha)\n",
    "visualizer_lassofield.show()"
   ]
  },
  {
   "cell_type": "code",
   "execution_count": null,
   "metadata": {
    "cell_id": "00055-b88f165a-1649-405c-9e6d-9b07df49895e",
    "deepnote_cell_type": "code",
    "deepnote_to_be_reexecuted": false,
    "execution_millis": 45,
    "execution_start": 1621942452581,
    "source_hash": "f69fab6d"
   },
   "outputs": [],
   "source": [
    "lasso_rsq_field_train = lasso_field.score(X_field_train, y_field_train)\n",
    "lasso_rsq_field_test = lasso_field.score(X_field_test, y_field_test)\n",
    "mse_lasso_field = mean_squared_error(y_field_test,y_field_pred_lasso,squared=True)\n",
    "rmse_lasso_field = mean_squared_error(y_field_test,y_field_pred_lasso,squared=False)\n",
    "mae_lasso_field = mean_absolute_error(y_field_test,y_field_pred_lasso)\n",
    "mape_lasso_field = mean_absolute_percentage_error(y_field_test,y_field_pred_lasso)"
   ]
  },
  {
   "cell_type": "code",
   "execution_count": null,
   "metadata": {
    "cell_id": "00056-46870a69-f825-42ec-b4f2-74ada405a389",
    "deepnote_cell_type": "code",
    "deepnote_to_be_reexecuted": false,
    "execution_millis": 53,
    "execution_start": 1621942452627,
    "source_hash": "fbc38411"
   },
   "outputs": [
    {
     "data": {
      "text/plain": [
       "age                          -0.072513\n",
       "height_cm                    -0.002187\n",
       "weight_kg                     0.006291\n",
       "weak_foot                    -0.007871\n",
       "skill_moves                   0.175433\n",
       "pace                          0.000280\n",
       "shooting                      0.000000\n",
       "passing                       0.000000\n",
       "dribbling                     0.000000\n",
       "defending                     0.014673\n",
       "physic                        0.001958\n",
       "attacking_crossing            0.005650\n",
       "attacking_finishing           0.006793\n",
       "attacking_heading_accuracy    0.015375\n",
       "attacking_short_passing       0.022325\n",
       "attacking_volleys            -0.001388\n",
       "skill_dribbling               0.006644\n",
       "skill_curve                  -0.001500\n",
       "skill_fk_accuracy            -0.000946\n",
       "skill_long_passing           -0.004482\n",
       "skill_ball_control            0.031290\n",
       "movement_acceleration         0.010249\n",
       "movement_sprint_speed         0.007661\n",
       "movement_agility             -0.003807\n",
       "movement_reactions            0.058107\n",
       "movement_balance             -0.001605\n",
       "power_shot_power              0.005161\n",
       "power_jumping                 0.000182\n",
       "power_stamina                 0.005019\n",
       "power_strength                0.004186\n",
       "power_long_shots             -0.006266\n",
       "mentality_aggression          0.000000\n",
       "mentality_interceptions      -0.005308\n",
       "mentality_positioning        -0.008131\n",
       "mentality_vision             -0.009185\n",
       "mentality_penalties           0.001505\n",
       "mentality_composure           0.022331\n",
       "defending_standing_tackle     0.000000\n",
       "defending_sliding_tackle     -0.000000\n",
       "contract_length               0.000018\n",
       "workrate_offense             -0.012081\n",
       "workrate_defense             -0.020794\n",
       "number_of_traits              0.100726\n",
       "dtype: float64"
      ]
     },
     "execution_count": 40,
     "metadata": {},
     "output_type": "execute_result"
    }
   ],
   "source": [
    "pd.Series(lasso_field.coef_, index=X_field.columns)"
   ]
  },
  {
   "cell_type": "markdown",
   "metadata": {
    "cell_id": "00058-6951716e-63a4-4065-9d5b-799003e0596a",
    "deepnote_cell_type": "markdown",
    "tags": []
   },
   "source": [
    "The coefficients again show exactly which features were \"victimized\" by a penalty, leading to 0 coefficient-values (for instance mentality_aggression, defending_standing_tacke and defending_sliding_tackle)."
   ]
  },
  {
   "cell_type": "code",
   "execution_count": null,
   "metadata": {
    "cell_id": "00057-64d96fdd-ed13-4f2c-af4c-bc429c6dd139",
    "deepnote_cell_type": "code",
    "deepnote_to_be_reexecuted": false,
    "execution_millis": 54,
    "execution_start": 1621942452671,
    "source_hash": "dfbf9c6b"
   },
   "outputs": [
    {
     "data": {
      "text/plain": [
       "(0.8653966490102939, 0.86331109490705)"
      ]
     },
     "execution_count": 41,
     "metadata": {},
     "output_type": "execute_result"
    }
   ],
   "source": [
    "lasso_rsq_field_train,lasso_rsq_field_test"
   ]
  },
  {
   "cell_type": "code",
   "execution_count": null,
   "metadata": {
    "cell_id": "00058-6a57cf63-32fc-4ba6-ad6f-7cfd7bc7f92b",
    "deepnote_cell_type": "code",
    "deepnote_to_be_reexecuted": false,
    "execution_millis": 10,
    "execution_start": 1621942452715,
    "source_hash": "77bc9aca"
   },
   "outputs": [
    {
     "data": {
      "text/plain": [
       "(0.2551358035618807,\n",
       " 0.5051096945831477,\n",
       " 0.4015536813194801,\n",
       " 0.02983133216967913)"
      ]
     },
     "execution_count": 42,
     "metadata": {},
     "output_type": "execute_result"
    }
   ],
   "source": [
    "mse_lasso_field, rmse_lasso_field, mae_lasso_field, mape_lasso_field"
   ]
  },
  {
   "cell_type": "code",
   "execution_count": null,
   "metadata": {
    "cell_id": "00059-2bca1fab-3caf-4f90-bdbd-80bcf15333b0",
    "deepnote_cell_type": "code",
    "deepnote_to_be_reexecuted": false,
    "execution_millis": 689,
    "execution_start": 1621942452716,
    "source_hash": "dc003815"
   },
   "outputs": [
    {
     "data": {
      "text/plain": [
       "(array([ 7., 13., 13., 21., 36., 52., 61., 67., 79., 57., 74., 56., 33.,\n",
       "        34., 24., 16., 11.,  9.,  5.,  4.,  3.,  3.,  2.,  3.,  2.]),\n",
       " array([-0.68849877, -0.61535762, -0.54221647, -0.46907533, -0.39593418,\n",
       "        -0.32279303, -0.24965189, -0.17651074, -0.1033696 , -0.03022845,\n",
       "         0.0429127 ,  0.11605384,  0.18919499,  0.26233614,  0.33547728,\n",
       "         0.40861843,  0.48175958,  0.55490072,  0.62804187,  0.70118302,\n",
       "         0.77432416,  0.84746531,  0.92060646,  0.9937476 ,  1.06688875,\n",
       "         1.1400299 ]),\n",
       " <BarContainer object of 25 artists>)"
      ]
     },
     "execution_count": 43,
     "metadata": {},
     "output_type": "execute_result"
    },
    {
     "data": {
      "image/png": "[encoded data removed]",
      "text/plain": [
       "<Figure size 576x396 with 1 Axes>"
      ]
     },
     "metadata": {
      "image/png": {
       "height": 330,
       "width": 480
      }
     },
     "output_type": "display_data"
    }
   ],
   "source": [
    "plt.hist(y_gk_pred_lasso - y_gk_test,bins=25)"
   ]
  },
  {
   "cell_type": "code",
   "execution_count": null,
   "metadata": {
    "cell_id": "00060-82d9138f-c853-411e-bd7f-f2bc0a988c3c",
    "deepnote_cell_type": "code",
    "deepnote_to_be_reexecuted": false,
    "execution_millis": 522,
    "execution_start": 1621942453465,
    "source_hash": "c4d4c513"
   },
   "outputs": [
    {
     "data": {
      "text/plain": [
       "(array([  1.,   2.,   6.,  13.,  25.,  58., 104., 201., 361., 465., 653.,\n",
       "        707., 768., 667., 610., 396., 239., 143.,  70.,  35.,  19.,   3.,\n",
       "          4.,   0.,   1.]),\n",
       " array([-2.08645787, -1.91451607, -1.74257428, -1.57063249, -1.3986907 ,\n",
       "        -1.22674891, -1.05480712, -0.88286533, -0.71092353, -0.53898174,\n",
       "        -0.36703995, -0.19509816, -0.02315637,  0.14878542,  0.32072722,\n",
       "         0.49266901,  0.6646108 ,  0.83655259,  1.00849438,  1.18043617,\n",
       "         1.35237797,  1.52431976,  1.69626155,  1.86820334,  2.04014513,\n",
       "         2.21208692]),\n",
       " <BarContainer object of 25 artists>)"
      ]
     },
     "execution_count": 44,
     "metadata": {},
     "output_type": "execute_result"
    },
    {
     "data": {
      "image/png": "[encoded data removed]",
      "text/plain": [
       "<Figure size 576x396 with 1 Axes>"
      ]
     },
     "metadata": {
      "image/png": {
       "height": 332,
       "width": 486
      }
     },
     "output_type": "display_data"
    }
   ],
   "source": [
    "plt.hist(y_field_pred_lasso - y_field_test,bins=25)"
   ]
  },
  {
   "cell_type": "markdown",
   "metadata": {
    "cell_id": "00061-51c418fe-1181-4dbb-8c48-4a251be37771",
    "deepnote_cell_type": "markdown"
   },
   "source": [
    "The residuals of the goalkeeper data after performing Lasso Regularization appear to be heavier on the left (negative) side, than on the right one. Contrarily, the fieldplayer data residuals appear to have the shape of a normal distribution."
   ]
  },
  {
   "cell_type": "markdown",
   "metadata": {
    "cell_id": "00062-c344be1b-5cb2-4714-97f5-6f065c5424eb",
    "deepnote_cell_type": "markdown"
   },
   "source": [
    "### c) Ridge"
   ]
  },
  {
   "cell_type": "markdown",
   "metadata": {
    "cell_id": "00063-f47e1e85-5fa3-4493-8918-743dd99f38fa",
    "deepnote_cell_type": "markdown"
   },
   "source": [
    "Instead of arbitrarily choosing alpha  , it would be better to use cross-validation to choose the tuning parameter alpha. We can do this using the cross-validated ridge regression function, RidgeCV(). By default, the function performs generalized cross-validation , though this can be changed using the argument cv."
   ]
  },
  {
   "cell_type": "code",
   "execution_count": null,
   "metadata": {
    "cell_id": "00064-d19787bb-ec5a-4a07-8442-b2c5cef62693",
    "deepnote_cell_type": "code",
    "deepnote_to_be_reexecuted": false,
    "execution_millis": 31,
    "execution_start": 1621942453992,
    "source_hash": "afe68d3c"
   },
   "outputs": [],
   "source": [
    "alphas = np.logspace(-3, -1, 30)"
   ]
  },
  {
   "cell_type": "code",
   "execution_count": null,
   "metadata": {
    "cell_id": "00065-3a84ddb0-292c-402a-bd3d-38aa4f467c14",
    "deepnote_cell_type": "code",
    "deepnote_to_be_reexecuted": false,
    "execution_millis": 103,
    "execution_start": 1621942454064,
    "source_hash": "2e694b0b"
   },
   "outputs": [
    {
     "data": {
      "text/plain": [
       "RidgeCV(alphas=array([0.001     , 0.0011721 , 0.00137382, 0.00161026, 0.00188739,\n",
       "       0.00221222, 0.00259294, 0.0030392 , 0.00356225, 0.00417532,\n",
       "       0.0048939 , 0.00573615, 0.00672336, 0.00788046, 0.00923671,\n",
       "       0.01082637, 0.01268961, 0.01487352, 0.01743329, 0.0204336 ,\n",
       "       0.02395027, 0.02807216, 0.03290345, 0.0385662 , 0.04520354,\n",
       "       0.05298317, 0.06210169, 0.07278954, 0.08531679, 0.1       ]),\n",
       "        normalize=True, scoring='neg_mean_squared_error')"
      ]
     },
     "execution_count": 46,
     "metadata": {},
     "output_type": "execute_result"
    }
   ],
   "source": [
    "ridgecv_gk = RidgeCV(alphas = alphas, scoring = 'neg_mean_squared_error', normalize = True)\n",
    "ridgecv_gk.fit(X_gk_train, y_gk_train)"
   ]
  },
  {
   "cell_type": "code",
   "execution_count": null,
   "metadata": {
    "cell_id": "00066-bf1177a9-78cd-4b7b-a2db-83ca50674466",
    "deepnote_cell_type": "code",
    "deepnote_to_be_reexecuted": false,
    "execution_millis": 70,
    "execution_start": 1621942454176,
    "source_hash": "8c971410"
   },
   "outputs": [
    {
     "name": "stdout",
     "output_type": "stream",
     "text": [
      "Chosen alpha by tuning for goalkeeper data: 0.0041753189365604\n"
     ]
    }
   ],
   "source": [
    "ridge_gk = Ridge(alpha = ridgecv_gk.alpha_, normalize = True)\n",
    "ridge_gk.fit(X_gk_train, y_gk_train)\n",
    "\n",
    "y_gk_pred_ridge = ridge_gk.predict(X_gk_test)\n",
    "print(\"Chosen alpha by tuning for goalkeeper data:\",ridge_gk.alpha)"
   ]
  },
  {
   "cell_type": "code",
   "execution_count": null,
   "metadata": {
    "cell_id": "00067-71da7faa-64d0-484a-84db-75d05dcbe7e7",
    "deepnote_cell_type": "code",
    "deepnote_to_be_reexecuted": false,
    "execution_millis": 48,
    "execution_start": 1621942454255,
    "source_hash": "931fca5c"
   },
   "outputs": [
    {
     "data": {
      "text/plain": [
       "age                     -0.114658\n",
       "height_cm                0.003146\n",
       "weight_kg                0.000091\n",
       "gk_diving                0.047166\n",
       "gk_handling              0.045501\n",
       "gk_kicking               0.004075\n",
       "gk_reflexes              0.053322\n",
       "gk_speed                -0.001692\n",
       "gk_positioning           0.038767\n",
       "movement_acceleration    0.004345\n",
       "movement_sprint_speed    0.000487\n",
       "movement_agility        -0.001320\n",
       "movement_reactions       0.022266\n",
       "movement_balance        -0.000144\n",
       "power_shot_power         0.007954\n",
       "power_jumping            0.000375\n",
       "power_stamina            0.001220\n",
       "power_strength           0.000505\n",
       "power_long_shots         0.000924\n",
       "mentality_vision         0.000647\n",
       "mentality_penalties     -0.000021\n",
       "mentality_composure     -0.001761\n",
       "number_of_traits         0.003363\n",
       "dtype: float64"
      ]
     },
     "execution_count": 48,
     "metadata": {},
     "output_type": "execute_result"
    }
   ],
   "source": [
    "pd.Series(ridge_gk.coef_, index = X_gk.columns)"
   ]
  },
  {
   "cell_type": "markdown",
   "metadata": {
    "cell_id": "00068-6546c5ca-6e44-4aea-8649-b29865196555",
    "deepnote_cell_type": "markdown",
    "tags": []
   },
   "source": [
    "The coefficients give insight on how the different features are penalized or not. After performing ridge regression, a lot of coefficients are very very mall (for instance mentality_penalties, movement_sprint_speed or the weight of a goalkeeper (might be confusing from a neutral perspective). \n",
    "\n",
    "Contrarily, for instance the age is considered with a comparably high negative influence on the target variable, as well as the reflexes, handling, and diving appear to be evaluated as important."
   ]
  },
  {
   "cell_type": "code",
   "execution_count": null,
   "metadata": {
    "cell_id": "00068-7ebd22dd-d529-46c5-9495-884517a9554b",
    "deepnote_cell_type": "code",
    "deepnote_to_be_reexecuted": false,
    "execution_millis": 99,
    "execution_start": 1621942454307,
    "source_hash": "779c145e"
   },
   "outputs": [],
   "source": [
    "ridge_rsq_gk_train = ridge_gk.score(X_gk_train, y_gk_train)\n",
    "ridge_rsq_gk_test = ridge_gk.score(X_gk_test, y_gk_test)\n",
    "mse_ridge_gk = mean_squared_error(y_gk_test,y_gk_pred_ridge,squared=True)\n",
    "rmse_ridge_gk = mean_squared_error(y_gk_test,y_gk_pred_ridge,squared=False)\n",
    "mae_ridge_gk = mean_absolute_error(y_gk_test,y_gk_pred_ridge)\n",
    "mape_ridge_gk = mean_absolute_percentage_error(y_gk_test,y_gk_pred_ridge)"
   ]
  },
  {
   "cell_type": "code",
   "execution_count": null,
   "metadata": {
    "cell_id": "00069-453d3854-1d22-40fa-b044-3f9541b27203",
    "deepnote_cell_type": "code",
    "deepnote_to_be_reexecuted": false,
    "execution_millis": 65,
    "execution_start": 1621942454419,
    "source_hash": "2fd8d2d9"
   },
   "outputs": [
    {
     "data": {
      "text/plain": [
       "(0.962131320599537, 0.9572467461758396)"
      ]
     },
     "execution_count": 50,
     "metadata": {},
     "output_type": "execute_result"
    }
   ],
   "source": [
    "ridge_rsq_gk_train, ridge_rsq_gk_test"
   ]
  },
  {
   "cell_type": "code",
   "execution_count": null,
   "metadata": {
    "cell_id": "00070-c73e8b17-b29d-48bb-9c95-d0a898f00695",
    "deepnote_cell_type": "code",
    "deepnote_to_be_reexecuted": false,
    "execution_millis": 0,
    "execution_start": 1621942454544,
    "source_hash": "c24ef570"
   },
   "outputs": [
    {
     "data": {
      "text/plain": [
       "(0.09234185498870817,\n",
       " 0.30387802649864004,\n",
       " 0.23783065990928953,\n",
       " 0.01857707064821874)"
      ]
     },
     "execution_count": 51,
     "metadata": {},
     "output_type": "execute_result"
    }
   ],
   "source": [
    "mse_ridge_gk, rmse_ridge_gk, mae_ridge_gk, mape_ridge_gk"
   ]
  },
  {
   "cell_type": "code",
   "execution_count": null,
   "metadata": {
    "cell_id": "00071-4782b78f-ba67-4244-8261-ac63280c2aa4",
    "deepnote_cell_type": "code",
    "deepnote_to_be_reexecuted": false,
    "execution_millis": 621,
    "execution_start": 1621942454545,
    "source_hash": "95c067cd"
   },
   "outputs": [
    {
     "data": {
      "text/plain": [
       "RidgeCV(alphas=array([0.001     , 0.0011721 , 0.00137382, 0.00161026, 0.00188739,\n",
       "       0.00221222, 0.00259294, 0.0030392 , 0.00356225, 0.00417532,\n",
       "       0.0048939 , 0.00573615, 0.00672336, 0.00788046, 0.00923671,\n",
       "       0.01082637, 0.01268961, 0.01487352, 0.01743329, 0.0204336 ,\n",
       "       0.02395027, 0.02807216, 0.03290345, 0.0385662 , 0.04520354,\n",
       "       0.05298317, 0.06210169, 0.07278954, 0.08531679, 0.1       ]),\n",
       "        normalize=True, scoring='neg_mean_squared_error')"
      ]
     },
     "execution_count": 52,
     "metadata": {},
     "output_type": "execute_result"
    }
   ],
   "source": [
    "ridgecv_field = RidgeCV(alphas = alphas, scoring = 'neg_mean_squared_error', normalize = True)\n",
    "ridgecv_field.fit(X_field_train, y_field_train)"
   ]
  },
  {
   "cell_type": "code",
   "execution_count": null,
   "metadata": {
    "cell_id": "00072-1f0c0f75-815b-4854-b0c7-c38f4134f718",
    "deepnote_cell_type": "code",
    "deepnote_to_be_reexecuted": false,
    "execution_millis": 47,
    "execution_start": 1621942455144,
    "source_hash": "e5584cdd"
   },
   "outputs": [
    {
     "name": "stdout",
     "output_type": "stream",
     "text": [
      "Chosen alpha by tuning for fieldplayer data: 0.001\n"
     ]
    }
   ],
   "source": [
    "ridge_field = Ridge(alpha = ridgecv_field.alpha_, normalize = True)\n",
    "ridge_field.fit(X_field_train, y_field_train)\n",
    "\n",
    "y_field_pred_ridge = ridge_field.predict(X_field_test)\n",
    "print(\"Chosen alpha by tuning for fieldplayer data:\",ridge_field.alpha)"
   ]
  },
  {
   "cell_type": "code",
   "execution_count": null,
   "metadata": {
    "cell_id": "00073-0dc7b7e6-b58d-49a3-b49f-8c0c51e7f95f",
    "deepnote_cell_type": "code",
    "deepnote_to_be_reexecuted": false,
    "execution_millis": 62,
    "execution_start": 1621942455467,
    "source_hash": "8c8b40d8"
   },
   "outputs": [
    {
     "data": {
      "text/plain": [
       "age                          -0.073025\n",
       "height_cm                    -0.003539\n",
       "weight_kg                     0.006705\n",
       "weak_foot                    -0.009947\n",
       "skill_moves                   0.177829\n",
       "pace                          0.001927\n",
       "shooting                      0.006295\n",
       "passing                       0.003838\n",
       "dribbling                    -0.004619\n",
       "defending                     0.018064\n",
       "physic                       -0.005032\n",
       "attacking_crossing            0.005308\n",
       "attacking_finishing           0.004683\n",
       "attacking_heading_accuracy    0.014943\n",
       "attacking_short_passing       0.021496\n",
       "attacking_volleys            -0.002122\n",
       "skill_dribbling               0.009443\n",
       "skill_curve                  -0.001978\n",
       "skill_fk_accuracy            -0.001181\n",
       "skill_long_passing           -0.005486\n",
       "skill_ball_control            0.032355\n",
       "movement_acceleration         0.009777\n",
       "movement_sprint_speed         0.006650\n",
       "movement_agility             -0.003718\n",
       "movement_reactions            0.058162\n",
       "movement_balance             -0.001819\n",
       "power_shot_power              0.004353\n",
       "power_jumping                 0.000708\n",
       "power_stamina                 0.006947\n",
       "power_strength                0.007591\n",
       "power_long_shots             -0.007993\n",
       "mentality_aggression          0.001530\n",
       "mentality_interceptions      -0.006856\n",
       "mentality_positioning        -0.008984\n",
       "mentality_vision             -0.010055\n",
       "mentality_penalties           0.001468\n",
       "mentality_composure           0.022462\n",
       "defending_standing_tackle     0.000634\n",
       "defending_sliding_tackle     -0.001948\n",
       "contract_length               0.000020\n",
       "workrate_offense             -0.016461\n",
       "workrate_defense             -0.025566\n",
       "number_of_traits              0.101982\n",
       "dtype: float64"
      ]
     },
     "execution_count": 54,
     "metadata": {},
     "output_type": "execute_result"
    }
   ],
   "source": [
    "pd.Series(ridge_field.coef_, index = X_field.columns)"
   ]
  },
  {
   "cell_type": "markdown",
   "metadata": {
    "cell_id": "00074-e800257d-036b-46e2-be2c-1bac882c4a16",
    "deepnote_cell_type": "markdown"
   },
   "source": [
    "By elaborating on the feature coefficients, the penalization of ridge regression can be visualized nicely. A lot of the features receive scores with very small values, where 3 or 4 decimal places equal zero. The features with a comparably higher score are being perceived as \"important\" by the model (no matter if the coefficient is negative or positive). "
   ]
  },
  {
   "cell_type": "code",
   "execution_count": null,
   "metadata": {
    "cell_id": "00075-fbab211b-95bd-42ec-bf4f-1ffac07f6b23",
    "deepnote_cell_type": "code",
    "deepnote_to_be_reexecuted": false,
    "execution_millis": 42,
    "execution_start": 1621942455558,
    "source_hash": "546bc2fe"
   },
   "outputs": [],
   "source": [
    "ridge_rsq_field_train = ridge_field.score(X_field_train, y_field_train)\n",
    "ridge_rsq_field_test = ridge_field.score(X_field_test, y_field_test)\n",
    "mse_ridge_field = mean_squared_error(y_field_test,y_field_pred_ridge,squared=True)\n",
    "rmse_ridge_field = mean_squared_error(y_field_test,y_field_pred_ridge,squared=False)\n",
    "mae_ridge_field = mean_absolute_error(y_gk_test,y_gk_pred_ridge)\n",
    "mape_ridge_field = mean_absolute_percentage_error(y_gk_test,y_gk_pred_ridge)"
   ]
  },
  {
   "cell_type": "code",
   "execution_count": null,
   "metadata": {
    "cell_id": "00076-d7dfd4f5-2ea0-40a4-ab7a-1318af2f7497",
    "deepnote_cell_type": "code",
    "deepnote_to_be_reexecuted": false,
    "execution_millis": 34,
    "execution_start": 1621942455643,
    "source_hash": "d3a3ad7f"
   },
   "outputs": [
    {
     "data": {
      "text/plain": [
       "(0.8655783871913986, 0.8630732980210306)"
      ]
     },
     "execution_count": 56,
     "metadata": {},
     "output_type": "execute_result"
    }
   ],
   "source": [
    "ridge_rsq_field_train, ridge_rsq_field_test"
   ]
  },
  {
   "cell_type": "code",
   "execution_count": null,
   "metadata": {
    "cell_id": "00077-5d6ee59f-24c2-4660-95e2-21a4b204af9b",
    "deepnote_cell_type": "code",
    "deepnote_to_be_reexecuted": false,
    "execution_millis": 33,
    "execution_start": 1621942455682,
    "source_hash": "54332c5"
   },
   "outputs": [
    {
     "data": {
      "text/plain": [
       "(0.25557966182205055,\n",
       " 0.505548871843317,\n",
       " 0.23783065990928953,\n",
       " 0.01857707064821874)"
      ]
     },
     "execution_count": 57,
     "metadata": {},
     "output_type": "execute_result"
    }
   ],
   "source": [
    "mse_ridge_field, rmse_ridge_field, mae_ridge_field, mape_ridge_field"
   ]
  },
  {
   "cell_type": "code",
   "execution_count": null,
   "metadata": {
    "cell_id": "00078-69673346-139b-478b-bca2-28773c404e34",
    "deepnote_cell_type": "code",
    "deepnote_to_be_reexecuted": false,
    "execution_millis": 584,
    "execution_start": 1621942455753,
    "source_hash": "85298b55"
   },
   "outputs": [
    {
     "data": {
      "text/plain": [
       "(array([ 8., 10., 17., 17., 39., 44., 66., 63., 80., 55., 71., 60., 33.,\n",
       "        34., 23., 20., 10., 14.,  3.,  5.,  4.,  2.,  3.,  3.,  1.]),\n",
       " array([-0.69486307, -0.62202202, -0.54918096, -0.47633991, -0.40349885,\n",
       "        -0.3306578 , -0.25781675, -0.18497569, -0.11213464, -0.03929359,\n",
       "         0.03354747,  0.10638852,  0.17922957,  0.25207063,  0.32491168,\n",
       "         0.39775273,  0.47059379,  0.54343484,  0.61627589,  0.68911695,\n",
       "         0.761958  ,  0.83479906,  0.90764011,  0.98048116,  1.05332222,\n",
       "         1.12616327]),\n",
       " <BarContainer object of 25 artists>)"
      ]
     },
     "execution_count": 58,
     "metadata": {},
     "output_type": "execute_result"
    },
    {
     "data": {
      "image/png": "[encoded data removed]",
      "text/plain": [
       "<Figure size 576x396 with 1 Axes>"
      ]
     },
     "metadata": {
      "image/png": {
       "height": 330,
       "width": 480
      }
     },
     "output_type": "display_data"
    }
   ],
   "source": [
    "plt.hist(y_gk_pred_ridge - y_gk_test,bins=25)"
   ]
  },
  {
   "cell_type": "code",
   "execution_count": null,
   "metadata": {
    "cell_id": "00079-55e1a5d2-2a98-4c63-b969-4a57ac519163",
    "deepnote_cell_type": "code",
    "deepnote_to_be_reexecuted": false,
    "execution_millis": 451,
    "execution_start": 1621942456454,
    "source_hash": "8619dbdb"
   },
   "outputs": [
    {
     "data": {
      "text/plain": [
       "(array([  1.,   1.,   6.,   9.,  29.,  59., 104., 196., 359., 473., 652.,\n",
       "        717., 773., 676., 603., 391., 231., 145.,  70.,  29.,  19.,   6.,\n",
       "          1.,   0.,   1.]),\n",
       " array([-2.10133778, -1.92796613, -1.75459447, -1.58122282, -1.40785117,\n",
       "        -1.23447951, -1.06110786, -0.88773621, -0.71436456, -0.5409929 ,\n",
       "        -0.36762125, -0.1942496 , -0.02087795,  0.15249371,  0.32586536,\n",
       "         0.49923701,  0.67260867,  0.84598032,  1.01935197,  1.19272362,\n",
       "         1.36609528,  1.53946693,  1.71283858,  1.88621023,  2.05958189,\n",
       "         2.23295354]),\n",
       " <BarContainer object of 25 artists>)"
      ]
     },
     "execution_count": 59,
     "metadata": {},
     "output_type": "execute_result"
    },
    {
     "data": {
      "image/png": "[encoded data removed]",
      "text/plain": [
       "<Figure size 576x396 with 1 Axes>"
      ]
     },
     "metadata": {
      "image/png": {
       "height": 330,
       "width": 486
      }
     },
     "output_type": "display_data"
    }
   ],
   "source": [
    "plt.hist( y_field_pred_ridge - y_field_test,bins=25)"
   ]
  },
  {
   "cell_type": "markdown",
   "metadata": {
    "cell_id": "00080-9a2e1909-dbff-4ebd-8125-d1d2c84150f1",
    "deepnote_cell_type": "markdown"
   },
   "source": [
    "Similarly to Lasso and LinReg, the residuals of the fieldplayer data appears to be quite normally distributed, which is perceived as promising factor. The goalkeeper data again appears to have more heavy tails on both sides, but the distribution in total is centered around 0 as well."
   ]
  },
  {
   "cell_type": "markdown",
   "metadata": {
    "cell_id": "00081-399fe392-f788-4be9-bd8c-3f2c0cb60f95",
    "deepnote_cell_type": "markdown"
   },
   "source": [
    "#### Match predictions to players"
   ]
  },
  {
   "cell_type": "markdown",
   "metadata": {
    "cell_id": "00082-3ccfe4d1-0a6b-45bc-820e-d94376fc7f72",
    "deepnote_cell_type": "markdown"
   },
   "source": [
    "Now, an exploration of the final scenario by matching the model results with the players themselves is executed. This requires another set of processing steps."
   ]
  },
  {
   "cell_type": "code",
   "execution_count": null,
   "metadata": {
    "cell_id": "00083-153d41d9-1748-4225-a809-f28322f582aa",
    "deepnote_cell_type": "code",
    "deepnote_to_be_reexecuted": false,
    "execution_millis": 24,
    "execution_start": 1621942456920,
    "source_hash": "6d6d614c"
   },
   "outputs": [],
   "source": [
    "#create a list containing the predicted values for both datasets, rounded to two decimal values\n",
    "#values can be traced back by its index\n",
    "gk_predictions = list(y_pred_reg_gk)\n",
    "gk_predictions = [ '%.2f' % elem for elem in gk_predictions ]\n",
    "\n",
    "field_predictions = list(y_pred_reg_field)\n",
    "field_predictions = [ '%.2f' % elem for elem in field_predictions ]"
   ]
  },
  {
   "cell_type": "code",
   "execution_count": null,
   "metadata": {
    "cell_id": "00084-4254e0c5-241f-4a67-a981-9ba3fb5b2566",
    "deepnote_cell_type": "code",
    "deepnote_to_be_reexecuted": false,
    "execution_millis": 38,
    "execution_start": 1621942456956,
    "source_hash": "ea9e92e5"
   },
   "outputs": [],
   "source": [
    "#the data in the test data after the split is unsorted. store the indexes in lists for both scenarios\n",
    "#store the actual true market values in lists, the order is the same\n",
    "index_gk_unsorted = list(y_gk_test.index)\n",
    "gk_true = list(y_gk_test)\n",
    "gk_true = [ '%.2f' % elem for elem in gk_true ]\n",
    "\n",
    "index_field_unsorted = list(y_field_test.index)\n",
    "field_true = list(y_field_test)\n",
    "field_true = [ '%.2f' % elem for elem in field_true ]"
   ]
  },
  {
   "cell_type": "code",
   "execution_count": null,
   "metadata": {
    "cell_id": "00085-592641bf-e7a8-401c-8ee9-ba7ab891d1bb",
    "deepnote_cell_type": "code",
    "deepnote_to_be_reexecuted": false,
    "execution_millis": 30,
    "execution_start": 1621942457006,
    "source_hash": "3af520bb"
   },
   "outputs": [],
   "source": [
    "#zip all three lists together for both scenarios\n",
    "list_total_gk = list(zip(index_gk_unsorted, gk_true, gk_predictions))\n",
    "list_total_field = list(zip(index_field_unsorted, field_true, field_predictions))"
   ]
  },
  {
   "cell_type": "code",
   "execution_count": null,
   "metadata": {
    "cell_id": "00086-f4805a69-425e-458e-b1c0-89f6aaa5bace",
    "deepnote_cell_type": "code",
    "deepnote_to_be_reexecuted": false,
    "execution_millis": 48,
    "execution_start": 1621942457048,
    "source_hash": "52bf98fe"
   },
   "outputs": [],
   "source": [
    "#create a dataframe from those lists for both scenarios\n",
    "df_gk = pd.DataFrame(list_total_gk, columns = ['indexes', 'true', 'pred'])\n",
    "df_gk.pred = df_gk.pred.astype(float)\n",
    "df_gk.true = df_gk.true.astype(float)\n",
    "\n",
    "df_field = pd.DataFrame(list_total_field, columns = ['indexes', 'true', 'pred'])\n",
    "df_field.pred = df_field.pred.astype(float)\n",
    "df_field.true = df_field.true.astype(float)"
   ]
  },
  {
   "cell_type": "code",
   "execution_count": null,
   "metadata": {
    "cell_id": "00087-72594f19-8436-4416-bfd3-af1d19a8a586",
    "deepnote_cell_type": "code",
    "deepnote_to_be_reexecuted": false,
    "execution_millis": 32,
    "execution_start": 1621942457111,
    "source_hash": "2f78d85d"
   },
   "outputs": [],
   "source": [
    "#n additionally compare the difference in percentage between actual and predicted market value\n",
    "df_gk[\"diff in %\"] = ((df_gk.pred - df_gk.true) / df_gk.pred) * 100\n",
    "df_gk[\"diff in %\"] = df_gk['diff in %'].round(2)\n",
    "df_field[\"diff in %\"] = ((df_field.pred - df_field.true) / df_field.pred) * 100\n",
    "df_field[\"diff in %\"] = df_field['diff in %'].round(2)"
   ]
  },
  {
   "cell_type": "code",
   "execution_count": null,
   "metadata": {
    "cell_id": "00088-dad3dd8f-6f21-4d78-bdb5-3009030aaa87",
    "deepnote_cell_type": "code",
    "deepnote_to_be_reexecuted": false,
    "execution_millis": 26,
    "execution_start": 1621942457150,
    "source_hash": "ab03dea6"
   },
   "outputs": [],
   "source": [
    "#we access the previously created dictionaries containing player and base index and extract those player\n",
    "#which were present in the test data\n",
    "#result is stored in another list in both scenarios\n",
    "name_list_gk = []\n",
    "age_list_gk = []\n",
    "for index in df_gk.indexes:\n",
    "    if index in gk_dict and index in gk_age_dict:\n",
    "        name_list_gk.append(gk_dict[index])\n",
    "        age_list_gk.append(gk_age_dict[index])\n",
    "    else:\n",
    "        break"
   ]
  },
  {
   "cell_type": "code",
   "execution_count": null,
   "metadata": {
    "cell_id": "00089-f19d5f1a-af10-4ccf-aae6-7f489ac4727c",
    "deepnote_cell_type": "code",
    "deepnote_to_be_reexecuted": false,
    "execution_millis": 60,
    "execution_start": 1621942457188,
    "source_hash": "61219889"
   },
   "outputs": [
    {
     "data": {
      "text/plain": [
       "(685, 685)"
      ]
     },
     "execution_count": 66,
     "metadata": {},
     "output_type": "execute_result"
    }
   ],
   "source": [
    "len(name_list_gk), len(age_list_gk)"
   ]
  },
  {
   "cell_type": "code",
   "execution_count": null,
   "metadata": {
    "cell_id": "00090-a8091700-e432-4195-9e79-c8c416af0551",
    "deepnote_cell_type": "code",
    "deepnote_to_be_reexecuted": false,
    "execution_millis": 0,
    "execution_start": 1621942457330,
    "source_hash": "f5ad1200"
   },
   "outputs": [],
   "source": [
    "name_list_field = []\n",
    "age_list_field = []\n",
    "for index in df_field.indexes:\n",
    "    if index in field_dict and index in field_age_dict:\n",
    "        name_list_field.append(field_dict[index])\n",
    "        age_list_field.append(field_age_dict[index])\n",
    "    else:\n",
    "        break"
   ]
  },
  {
   "cell_type": "code",
   "execution_count": null,
   "metadata": {
    "cell_id": "00091-d087f4ea-e256-450e-a974-0a8dcb7b7787",
    "deepnote_cell_type": "code",
    "deepnote_to_be_reexecuted": false,
    "execution_millis": 9,
    "execution_start": 1621942457366,
    "source_hash": "8d9c6bcd"
   },
   "outputs": [
    {
     "data": {
      "text/plain": [
       "(5551, 5551)"
      ]
     },
     "execution_count": 68,
     "metadata": {},
     "output_type": "execute_result"
    }
   ],
   "source": [
    "len(name_list_field), len(age_list_field)"
   ]
  },
  {
   "cell_type": "code",
   "execution_count": null,
   "metadata": {
    "cell_id": "00092-c9173292-5a88-430a-993d-4d65a290076c",
    "deepnote_cell_type": "code",
    "deepnote_to_be_reexecuted": false,
    "execution_millis": 18,
    "execution_start": 1621942457406,
    "source_hash": "ca12bee5"
   },
   "outputs": [],
   "source": [
    "#we add those lists to the dataframe\n",
    "df_gk['player'] = name_list_gk\n",
    "col_gk = df_gk.pop(\"player\")\n",
    "df_gk.insert(0, col_gk.name, col_gk)\n",
    "df_gk['age'] = age_list_gk\n",
    "col1_gk = df_gk.pop('age').astype(int)\n",
    "#df_gk.insert(1, col1_gk.age, col1_gk)#\n",
    "df_gk.insert(loc=1, column='age', value=col1_gk)\n",
    "\n",
    "df_field['player'] = name_list_field\n",
    "col_field = df_field.pop(\"player\")\n",
    "df_field.insert(0, col_field.name, col_field)\n",
    "df_field['age'] = age_list_field\n",
    "col1_field = df_field.pop('age').astype(int)\n",
    "df_field.insert(loc=1, column='age', value=col1_field)"
   ]
  },
  {
   "cell_type": "markdown",
   "metadata": {
    "cell_id": "00093-f46483c7-081f-45eb-bdd7-f6c25fc49205",
    "deepnote_cell_type": "markdown"
   },
   "source": [
    "Now, we are ready to display the result for now. However, to be accounted for is the fact that the data is still transformed through the logarithm. It needs to be re-transformed in order to finally interpret the results correctly."
   ]
  },
  {
   "cell_type": "code",
   "execution_count": null,
   "metadata": {
    "cell_id": "00094-81e3ada2-dbe6-4226-a216-618f56f1299f",
    "deepnote_cell_type": "code",
    "deepnote_to_be_reexecuted": false,
    "execution_millis": 14,
    "execution_start": 1621942457440,
    "source_hash": "e01b2b47"
   },
   "outputs": [],
   "source": [
    "#df_gk.sort_values(by='true',ascending=False)"
   ]
  },
  {
   "cell_type": "code",
   "execution_count": null,
   "metadata": {
    "cell_id": "00095-66957393-a52b-4993-bee8-64ad678f6401",
    "deepnote_cell_type": "code",
    "deepnote_to_be_reexecuted": false,
    "execution_millis": 24,
    "execution_start": 1621942457459,
    "source_hash": "3d7ba21f"
   },
   "outputs": [],
   "source": [
    "#df_field.sort_values(by='true',ascending=False)"
   ]
  },
  {
   "cell_type": "markdown",
   "metadata": {
    "cell_id": "00096-d4bbb370-90f7-491b-bb6b-5e23732738e8",
    "deepnote_cell_type": "markdown"
   },
   "source": [
    "#### Backtransform the data --> Exponential"
   ]
  },
  {
   "cell_type": "markdown",
   "metadata": {
    "cell_id": "00097-c5f64410-1fee-4e77-b18c-3576a2cb8280",
    "deepnote_cell_type": "markdown"
   },
   "source": [
    "According to the previous statement, we now eliminate the logarithm again from the target variable by applying the exponential function. Afterwards we will perform some further data cleaning, before we finally calculate percentage and absolute difference of the predicted and actual values."
   ]
  },
  {
   "cell_type": "code",
   "execution_count": null,
   "metadata": {
    "cell_id": "00098-12d3c0ab-35eb-4f79-b6ac-be26be828cf7",
    "deepnote_cell_type": "code",
    "deepnote_to_be_reexecuted": false,
    "execution_millis": 60,
    "execution_start": 1621942457507,
    "scrolled": true,
    "source_hash": "4c43b67"
   },
   "outputs": [
    {
     "name": "stderr",
     "output_type": "stream",
     "text": [
      "/shared-libs/python3.7/py/lib/python3.7/site-packages/pandas/core/generic.py:5494: SettingWithCopyWarning: \n",
      "A value is trying to be set on a copy of a slice from a DataFrame.\n",
      "Try using .loc[row_indexer,col_indexer] = value instead\n",
      "\n",
      "See the caveats in the documentation: https://pandas.pydata.org/pandas-docs/stable/user_guide/indexing.html#returning-a-view-versus-a-copy\n",
      "  self[name] = value\n"
     ]
    }
   ],
   "source": [
    "df_gk_org = df_gk[[\"player\",\"age\",\"indexes\",\"true\",\"pred\"]]\n",
    "df_gk_org.true = np.exp(df_gk_org.true)\n",
    "df_gk_org.pred = np.exp(df_gk_org.pred)\n",
    "#df_gk_org[df_gk_org.pred == np.inf]\n",
    "#df_gk_org.true.replace([np.inf, -np.inf], 0, inplace=True)\n",
    "#df_gk_org.pred.replace([np.inf, -np.inf], 0, inplace=True)\n",
    "df_gk_org = df_gk_org[df_gk_org.true!= 0]\n",
    "df_gk_org.true = df_gk_org.true.astype(int)\n",
    "df_gk_org.pred = df_gk_org.pred.astype(int)\n",
    "df_gk_org[\"diff_total\"] = df_gk_org.pred - df_gk_org.true\n",
    "df_gk_org[\"diff_%\"] = ((df_gk_org.pred - df_gk_org.true) / df_gk_org.true) * 100"
   ]
  },
  {
   "cell_type": "code",
   "execution_count": null,
   "metadata": {
    "cell_id": "00099-329a30b5-9ba8-4eca-b741-fef8c544be9e",
    "deepnote_cell_type": "code",
    "deepnote_to_be_reexecuted": false,
    "execution_millis": 54,
    "execution_start": 1621942457599,
    "source_hash": "cce26f38"
   },
   "outputs": [
    {
     "name": "stderr",
     "output_type": "stream",
     "text": [
      "/shared-libs/python3.7/py/lib/python3.7/site-packages/pandas/core/generic.py:5494: SettingWithCopyWarning: \n",
      "A value is trying to be set on a copy of a slice from a DataFrame.\n",
      "Try using .loc[row_indexer,col_indexer] = value instead\n",
      "\n",
      "See the caveats in the documentation: https://pandas.pydata.org/pandas-docs/stable/user_guide/indexing.html#returning-a-view-versus-a-copy\n",
      "  self[name] = value\n"
     ]
    }
   ],
   "source": [
    "df_field_org = df_field[[\"player\",\"age\",\"indexes\",\"true\",\"pred\"]]\n",
    "df_field_org.true = np.exp(df_field_org.true)\n",
    "df_field_org.pred = np.exp(df_field_org.pred)\n",
    "#df_field_org[df_field_org.pred == np.inf]\n",
    "#df_field_org.true.replace([np.inf, -np.inf], 0, inplace=True)\n",
    "#df_field_org.pred.replace([np.inf, -np.inf], 0, inplace=True)\n",
    "df_field_org = df_field_org[df_field_org.true!= 0]\n",
    "df_field_org.true = df_field_org.true.astype(int)\n",
    "df_field_org.pred = df_field_org.pred.astype(int)\n",
    "df_field_org[\"diff_total\"] = df_field_org.pred - df_field_org.true\n",
    "df_field_org[\"diff_%\"] = ((df_field_org.pred - df_field_org.true) / df_field_org.true) * 100"
   ]
  },
  {
   "cell_type": "code",
   "execution_count": null,
   "metadata": {
    "cell_id": "00100-a0bb6323-c38f-40f7-acbc-3ace4b8b01e3",
    "deepnote_cell_type": "code",
    "deepnote_to_be_reexecuted": false,
    "execution_millis": 46,
    "execution_start": 1621942457688,
    "source_hash": "b43b7d7"
   },
   "outputs": [
    {
     "data": {
      "text/plain": [
       "-47647.24"
      ]
     },
     "execution_count": 74,
     "metadata": {},
     "output_type": "execute_result"
    }
   ],
   "source": [
    "#avg_diff_perc_gk = df_gk_org[\"Difference in %\"].mean()\n",
    "avg_diff_abs_gk = df_gk_org[\"diff_total\"].mean()\n",
    "#avg_diff_perc_gk\n",
    "round(avg_diff_abs_gk,2)"
   ]
  },
  {
   "cell_type": "code",
   "execution_count": null,
   "metadata": {
    "cell_id": "00101-7dd5ac06-ae22-4ea4-a96a-1f9d24ada9b1",
    "deepnote_cell_type": "code",
    "deepnote_to_be_reexecuted": false,
    "execution_millis": 1,
    "execution_start": 1621942457762,
    "source_hash": "1a9aa4d1"
   },
   "outputs": [
    {
     "data": {
      "text/plain": [
       "-357922.35"
      ]
     },
     "execution_count": 75,
     "metadata": {},
     "output_type": "execute_result"
    }
   ],
   "source": [
    "#avg_diff_perc_field = df_field_org[\"Difference in %\"].mean()\n",
    "avg_diff_abs_field = df_field_org[\"diff_total\"].mean()\n",
    "#avg_diff_perc_field\n",
    "round(avg_diff_abs_field,2)"
   ]
  },
  {
   "cell_type": "markdown",
   "metadata": {
    "cell_id": "00102-00916266-fe21-4f80-885a-15523396c2bb",
    "deepnote_cell_type": "markdown"
   },
   "source": [
    "As we can see, the model performs better on the goalkeeper dataset than on the field-player dataset. This is however no surprise, as we have much less columns and much less variation in the data. \n",
    "\n",
    "Overall, the model performs very good for both data sets, as the average difference in percent is very low!"
   ]
  },
  {
   "cell_type": "markdown",
   "metadata": {
    "cell_id": "00103-e5f0fb5f-0e73-4004-a4fe-6ade0205583c",
    "deepnote_cell_type": "markdown"
   },
   "source": [
    "### Display Measures"
   ]
  },
  {
   "cell_type": "code",
   "execution_count": null,
   "metadata": {
    "cell_id": "00104-384589ec-3e02-4922-ac4b-c85a5641902b",
    "deepnote_cell_type": "code",
    "deepnote_to_be_reexecuted": false,
    "execution_millis": 33,
    "execution_start": 1621942457763,
    "source_hash": "904b594e"
   },
   "outputs": [],
   "source": [
    "mse_all_gk = [mse_linreg_gk, mse_lasso_gk, mse_ridge_gk]\n",
    "rmse_all_gk = [rmse_linreg_gk, rmse_lasso_gk, rmse_ridge_gk]\n",
    "mae_all_gk = [mae_linreg_gk, mae_lasso_gk, mae_ridge_gk]\n",
    "mape_all_gk = [mape_linreg_gk, mape_lasso_gk, mape_ridge_gk]\n",
    "mse_all_gk = [round(num, 3) for num in mse_all_gk]\n",
    "rmse_all_gk = [round(num, 3) for num in rmse_all_gk]\n",
    "mae_all_gk = [round(num, 3) for num in mae_all_gk]\n",
    "mape_all_gk = [round(num, 3) for num in mape_all_gk]\n",
    "\n",
    "mse_all_field = [mse_linreg_field, mse_lasso_field, mse_ridge_field]\n",
    "rmse_all_field = [rmse_linreg_field, rmse_lasso_field, rmse_ridge_field]\n",
    "mae_all_field = [mae_linreg_field, mae_lasso_field, mae_ridge_field]\n",
    "mape_all_field = [mape_linreg_field, mape_lasso_field, mape_ridge_field]\n",
    "mse_all_field = [round(num, 3) for num in mse_all_field]\n",
    "rmse_all_field = [round(num, 3) for num in rmse_all_field]\n",
    "mae_all_field = [round(num, 3) for num in mae_all_field]\n",
    "mape_all_field = [round(num, 3) for num in mape_all_field]"
   ]
  },
  {
   "cell_type": "code",
   "execution_count": null,
   "metadata": {
    "cell_id": "00105-f57cbbb6-8716-4099-a5f4-4c34d9443546",
    "deepnote_cell_type": "code",
    "deepnote_to_be_reexecuted": false,
    "execution_millis": 0,
    "execution_start": 1621942457795,
    "source_hash": "d241370b"
   },
   "outputs": [],
   "source": [
    "rsq_train_all_gk = [reg_rsq_gk_train, lasso_rsq_gk_train, ridge_rsq_gk_train]\n",
    "rsq_train_all_field = [reg_rsq_field_train, lasso_rsq_field_train, ridge_rsq_field_train]\n",
    "rsq_train_all_gk = [round(num, 3) for num in rsq_train_all_gk]\n",
    "rsq_train_all_field = [round(num, 3) for num in rsq_train_all_field]\n",
    "\n",
    "rsq_test_all_gk = [reg_rsq_gk_test, lasso_rsq_gk_test, ridge_rsq_gk_test]\n",
    "rsq_test_all_field = [reg_rsq_field_test, lasso_rsq_field_test, ridge_rsq_field_test]\n",
    "rsq_test_all_gk = [round(num, 3) for num in rsq_test_all_gk]\n",
    "rsq_test_all_field = [round(num, 3) for num in rsq_test_all_field]"
   ]
  },
  {
   "cell_type": "code",
   "execution_count": null,
   "metadata": {
    "cell_id": "00106-6182609b-c08e-4d12-b680-28fe3515891f",
    "deepnote_cell_type": "code",
    "deepnote_to_be_reexecuted": false,
    "execution_millis": 1,
    "execution_start": 1621942457795,
    "source_hash": "acfe8d9d"
   },
   "outputs": [],
   "source": [
    "method = [\"Linear\", \"Lasso (L1)\", \"Ridge (L2)\"]"
   ]
  },
  {
   "cell_type": "code",
   "execution_count": null,
   "metadata": {
    "cell_id": "00107-65906379-106e-4872-8c59-81c2605005c0",
    "deepnote_cell_type": "code",
    "deepnote_to_be_reexecuted": false,
    "execution_millis": 19,
    "execution_start": 1621942457838,
    "source_hash": "41721656"
   },
   "outputs": [],
   "source": [
    "overview_gk = PrettyTable()\n",
    "overview_gk.add_column('Method', method)\n",
    "overview_gk.add_column(\"MSE\", mse_all_gk)\n",
    "overview_gk.add_column(\"RMSE\", rmse_all_gk)\n",
    "overview_gk.add_column(\"MAE\", mae_all_gk)\n",
    "overview_gk.add_column(\"MAPE\", mape_all_gk)\n",
    "overview_gk.add_column(\"R-squared\", rsq_test_all_gk)\n",
    "\n",
    "overview_field = PrettyTable()\n",
    "overview_field.add_column('Method', method)\n",
    "overview_field.add_column(\"MSE\", mse_all_field)\n",
    "overview_field.add_column(\"RMSE\", rmse_all_field)\n",
    "overview_field.add_column(\"MAE\", mae_all_field)\n",
    "overview_field.add_column(\"MAPE\", mape_all_field)\n",
    "overview_field.add_column(\"R-squared\", rsq_test_all_field)"
   ]
  },
  {
   "cell_type": "code",
   "execution_count": null,
   "metadata": {
    "cell_id": "00108-782b9e7d-2db9-44c9-9f77-f0f6cc3a1e32",
    "deepnote_cell_type": "code",
    "deepnote_to_be_reexecuted": false,
    "execution_millis": 26,
    "execution_start": 1621942457922,
    "scrolled": false,
    "source_hash": "9baca026"
   },
   "outputs": [
    {
     "name": "stdout",
     "output_type": "stream",
     "text": [
      "+------------+-------+-------+-------+-------+-----------+\n",
      "|   Method   |  MSE  |  RMSE |  MAE  |  MAPE | R-squared |\n",
      "+------------+-------+-------+-------+-------+-----------+\n",
      "|   Linear   | 0.093 | 0.304 | 0.239 | 0.019 |   0.957   |\n",
      "| Lasso (L1) | 0.092 | 0.303 | 0.235 | 0.018 |   0.958   |\n",
      "| Ridge (L2) | 0.092 | 0.304 | 0.238 | 0.019 |   0.957   |\n",
      "+------------+-------+-------+-------+-------+-----------+\n"
     ]
    }
   ],
   "source": [
    "print(overview_gk)"
   ]
  },
  {
   "cell_type": "code",
   "execution_count": null,
   "metadata": {
    "cell_id": "00109-57d2c709-762c-44fb-987e-88f41b952841",
    "deepnote_cell_type": "code",
    "deepnote_to_be_reexecuted": false,
    "execution_millis": 43,
    "execution_start": 1621942457923,
    "scrolled": true,
    "source_hash": "4a06c409"
   },
   "outputs": [
    {
     "name": "stdout",
     "output_type": "stream",
     "text": [
      "+------------+-------+-------+-------+-------+-----------+\n",
      "|   Method   |  MSE  |  RMSE |  MAE  |  MAPE | R-squared |\n",
      "+------------+-------+-------+-------+-------+-----------+\n",
      "|   Linear   | 0.256 | 0.506 | 0.402 |  0.03 |   0.863   |\n",
      "| Lasso (L1) | 0.255 | 0.505 | 0.402 |  0.03 |   0.863   |\n",
      "| Ridge (L2) | 0.256 | 0.506 | 0.238 | 0.019 |   0.863   |\n",
      "+------------+-------+-------+-------+-------+-----------+\n"
     ]
    }
   ],
   "source": [
    "print(overview_field)"
   ]
  },
  {
   "cell_type": "markdown",
   "metadata": {
    "cell_id": "00110-9da3780e-5d7d-4b57-bd15-d044c9d7a8e6",
    "deepnote_cell_type": "markdown"
   },
   "source": [
    "## Analysis"
   ]
  },
  {
   "cell_type": "markdown",
   "metadata": {
    "cell_id": "00111-a30b7870-36fc-46a7-b99f-453421a1fd63",
    "deepnote_cell_type": "markdown"
   },
   "source": [
    "One fact one has to consider before running linear regression models is implied by the model-name itself. Not every dataset, or in other words not many datasets, can be described with a linear relationship and require therefore a more complex theoretical \"equation\". This limits the scope of application of a comparable models and represents a major drawback in comparison to other machine learning algorithms such as RandomForests or Neural Networks, which are able to handle non-linear relationships in the data. Exactly this is also the reason for the log-transformation in case of this model, in order to receive a linear development of the logged target variables.\n",
    "\n",
    "As we can see from the metrics tables above, the overall performance difference between our three main regression models (Linear, Lasso, Ridge) is only by marginal nature. This confirms the insights we were describing before. The effects of a regularization process depends on the used alpha-parameter. In our case, for the goalkeeper data the by the function chosen alpha-value was close to 0 (0.00015 and 0.004) which results in no penalty on the feature scores. For the fieldplayer data, the alpha mostly was 0.001 and 0.00001. Therefore, we can conclude that the regularization does not have an remarkable effect on the model performance, and a linear regression fulfils the job of predicting football player market values well on its own. However, this is a decision which is based on simplicity reasons. If the circumstances would differ, a regularization technique could be much more useful for a final interpretation of results. \n",
    "\n",
    "Remarkable is the fact that for the fieldplayer data, ridge regression performs better according to the absolute error metrics, however not in case of the squared ones. \n",
    "\n",
    "Overall we conclude that the normal linear regression is suitable for finally analyzing the market value differences between real values and our model. However, without considering and running the other models in this project, one could guess that the other models could outperform the linear regression model."
   ]
  },
  {
   "cell_type": "code",
   "execution_count": null,
   "metadata": {
    "cell_id": "00116-ae8a2350-1253-499c-b250-8c213b228f61",
    "deepnote_cell_type": "code",
    "deepnote_to_be_reexecuted": false,
    "execution_millis": 54,
    "execution_start": 1621950670377,
    "source_hash": "7b3fc9cd",
    "tags": []
   },
   "outputs": [
    {
     "name": "stderr",
     "output_type": "stream",
     "text": [
      "/shared-libs/python3.7/py-core/lib/python3.7/site-packages/ipykernel_launcher.py:5: SettingWithCopyWarning: \n",
      "A value is trying to be set on a copy of a slice from a DataFrame.\n",
      "Try using .loc[row_indexer,col_indexer] = value instead\n",
      "\n",
      "See the caveats in the documentation: https://pandas.pydata.org/pandas-docs/stable/user_guide/indexing.html#returning-a-view-versus-a-copy\n",
      "  \"\"\"\n",
      "/shared-libs/python3.7/py-core/lib/python3.7/site-packages/ipykernel_launcher.py:11: SettingWithCopyWarning: \n",
      "A value is trying to be set on a copy of a slice from a DataFrame.\n",
      "Try using .loc[row_indexer,col_indexer] = value instead\n",
      "\n",
      "See the caveats in the documentation: https://pandas.pydata.org/pandas-docs/stable/user_guide/indexing.html#returning-a-view-versus-a-copy\n",
      "  # This is added back by InteractiveShellApp.init_path()\n"
     ]
    },
    {
     "data": {
      "application/vnd.deepnote.dataframe.v2+json": {
       "column_count": 8,
       "columns": [
        {
         "dtype": "object",
         "name": "player",
         "stats": {
          "categories": [
           {
            "count": 1,
            "name": "Everton Jorge Simão Resende"
           },
           {
            "count": 1,
            "name": "Lucas Luciano Mantela Patrício"
           },
           {
            "count": 89,
            "name": "89 others"
           }
          ],
          "nan_count": 0,
          "unique_count": 91
         }
        },
        {
         "dtype": "int64",
         "name": "age",
         "stats": {
          "histogram": [
           {
            "bin_end": 17.6,
            "bin_start": 17,
            "count": 1
           },
           {
            "bin_end": 18.2,
            "bin_start": 17.6,
            "count": 4
           },
           {
            "bin_end": 18.8,
            "bin_start": 18.2,
            "count": 0
           },
           {
            "bin_end": 19.4,
            "bin_start": 18.8,
            "count": 2
           },
           {
            "bin_end": 20,
            "bin_start": 19.4,
            "count": 0
           },
           {
            "bin_end": 20.6,
            "bin_start": 20,
            "count": 20
           },
           {
            "bin_end": 21.2,
            "bin_start": 20.6,
            "count": 15
           },
           {
            "bin_end": 21.8,
            "bin_start": 21.2,
            "count": 0
           },
           {
            "bin_end": 22.4,
            "bin_start": 21.8,
            "count": 26
           },
           {
            "bin_end": 23,
            "bin_start": 22.4,
            "count": 23
           }
          ],
          "max": "23",
          "min": "17",
          "nan_count": 0,
          "unique_count": 7
         }
        },
        {
         "dtype": "int64",
         "name": "indexes",
         "stats": {
          "histogram": [
           {
            "bin_end": 1724.1,
            "bin_start": 868,
            "count": 2
           },
           {
            "bin_end": 2580.2,
            "bin_start": 1724.1,
            "count": 0
           },
           {
            "bin_end": 3436.3,
            "bin_start": 2580.2,
            "count": 0
           },
           {
            "bin_end": 4292.4,
            "bin_start": 3436.3,
            "count": 2
           },
           {
            "bin_end": 5148.5,
            "bin_start": 4292.4,
            "count": 12
           },
           {
            "bin_end": 6004.6,
            "bin_start": 5148.5,
            "count": 29
           },
           {
            "bin_end": 6860.7,
            "bin_start": 6004.6,
            "count": 23
           },
           {
            "bin_end": 7716.8,
            "bin_start": 6860.7,
            "count": 16
           },
           {
            "bin_end": 8572.900000000001,
            "bin_start": 7716.8,
            "count": 5
           },
           {
            "bin_end": 9429,
            "bin_start": 8572.900000000001,
            "count": 2
           }
          ],
          "max": "9429",
          "min": "868",
          "nan_count": 0,
          "unique_count": 91
         }
        },
        {
         "dtype": "int64",
         "name": "true",
         "stats": {
          "histogram": [
           {
            "bin_end": 1905955.2,
            "bin_start": 1004499,
            "count": 74
           },
           {
            "bin_end": 2807411.4,
            "bin_start": 1905955.2,
            "count": 10
           },
           {
            "bin_end": 3708867.5999999996,
            "bin_start": 2807411.4,
            "count": 5
           },
           {
            "bin_end": 4610323.8,
            "bin_start": 3708867.5999999996,
            "count": 0
           },
           {
            "bin_end": 5511780,
            "bin_start": 4610323.8,
            "count": 0
           },
           {
            "bin_end": 6413236.199999999,
            "bin_start": 5511780,
            "count": 0
           },
           {
            "bin_end": 7314692.399999999,
            "bin_start": 6413236.199999999,
            "count": 1
           },
           {
            "bin_end": 8216148.6,
            "bin_start": 7314692.399999999,
            "count": 0
           },
           {
            "bin_end": 9117604.8,
            "bin_start": 8216148.6,
            "count": 0
           },
           {
            "bin_end": 10019061,
            "bin_start": 9117604.8,
            "count": 1
           }
          ],
          "max": "10019061",
          "min": "1004499",
          "nan_count": 0,
          "unique_count": 23
         }
        },
        {
         "dtype": "int64",
         "name": "pred",
         "stats": {
          "histogram": [
           {
            "bin_end": 3939321.7,
            "bin_start": 1498537,
            "count": 74
           },
           {
            "bin_end": 6380106.4,
            "bin_start": 3939321.7,
            "count": 14
           },
           {
            "bin_end": 8820891.100000001,
            "bin_start": 6380106.4,
            "count": 1
           },
           {
            "bin_end": 11261675.8,
            "bin_start": 8820891.100000001,
            "count": 0
           },
           {
            "bin_end": 13702460.5,
            "bin_start": 11261675.8,
            "count": 1
           },
           {
            "bin_end": 16143245.200000001,
            "bin_start": 13702460.5,
            "count": 0
           },
           {
            "bin_end": 18584029.900000002,
            "bin_start": 16143245.200000001,
            "count": 0
           },
           {
            "bin_end": 21024814.6,
            "bin_start": 18584029.900000002,
            "count": 0
           },
           {
            "bin_end": 23465599.3,
            "bin_start": 21024814.6,
            "count": 0
           },
           {
            "bin_end": 25906384,
            "bin_start": 23465599.3,
            "count": 1
           }
          ],
          "max": "25906384",
          "min": "1498537",
          "nan_count": 0,
          "unique_count": 63
         }
        },
        {
         "dtype": "int64",
         "name": "diff_total",
         "stats": {
          "histogram": [
           {
            "bin_end": 1989301.6,
            "bin_start": 445077,
            "count": 68
           },
           {
            "bin_end": 3533526.2,
            "bin_start": 1989301.6,
            "count": 19
           },
           {
            "bin_end": 5077750.800000001,
            "bin_start": 3533526.2,
            "count": 2
           },
           {
            "bin_end": 6621975.4,
            "bin_start": 5077750.800000001,
            "count": 1
           },
           {
            "bin_end": 8166200,
            "bin_start": 6621975.4,
            "count": 0
           },
           {
            "bin_end": 9710424.600000001,
            "bin_start": 8166200,
            "count": 0
           },
           {
            "bin_end": 11254649.200000001,
            "bin_start": 9710424.600000001,
            "count": 0
           },
           {
            "bin_end": 12798873.8,
            "bin_start": 11254649.200000001,
            "count": 0
           },
           {
            "bin_end": 14343098.4,
            "bin_start": 12798873.8,
            "count": 0
           },
           {
            "bin_end": 15887323,
            "bin_start": 14343098.4,
            "count": 1
           }
          ],
          "max": "15887323",
          "min": "445077",
          "nan_count": 0,
          "unique_count": 85
         }
        },
        {
         "dtype": "float64",
         "name": "diff_%",
         "stats": {
          "histogram": [
           {
            "bin_end": 33.075637393730105,
            "bin_start": 28.822982384109565,
            "count": 2
           },
           {
            "bin_end": 37.328292403350645,
            "bin_start": 33.075637393730105,
            "count": 1
           },
           {
            "bin_end": 41.580947412971184,
            "bin_start": 37.328292403350645,
            "count": 21
           },
           {
            "bin_end": 45.833602422591724,
            "bin_start": 41.580947412971184,
            "count": 15
           },
           {
            "bin_end": 50.086257432212264,
            "bin_start": 45.833602422591724,
            "count": 15
           },
           {
            "bin_end": 54.338912441832804,
            "bin_start": 50.086257432212264,
            "count": 13
           },
           {
            "bin_end": 58.59156745145334,
            "bin_start": 54.338912441832804,
            "count": 10
           },
           {
            "bin_end": 62.84422246107388,
            "bin_start": 58.59156745145334,
            "count": 8
           },
           {
            "bin_end": 67.09687747069442,
            "bin_start": 62.84422246107388,
            "count": 1
           },
           {
            "bin_end": 71.34953248031496,
            "bin_start": 67.09687747069442,
            "count": 5
           }
          ],
          "max": "71.34953248031496",
          "min": "28.822982384109565",
          "nan_count": 0,
          "unique_count": 85
         }
        },
        {
         "dtype": "object",
         "name": "Position",
         "stats": {
          "categories": [
           {
            "count": 79,
            "name": "FP"
           },
           {
            "count": 12,
            "name": "GK"
           }
          ],
          "nan_count": 0,
          "unique_count": 2
         }
        },
        {
         "dtype": "int64",
         "name": "_deepnote_index_column"
        }
       ],
       "row_count": 91,
       "rows_bottom": null,
       "rows_top": [
        {
         "Position": "FP",
         "_deepnote_index_column": 59,
         "age": 20,
         "diff_%": 61.32589943853222,
         "diff_total": 15887323,
         "indexes": 868,
         "player": "Everton Jorge Simão Resende",
         "pred": 25906384,
         "true": 10019061
        },
        {
         "Position": "GK",
         "_deepnote_index_column": 2,
         "age": 20,
         "diff_%": 47.27075788146195,
         "diff_total": 6266457,
         "indexes": 1135,
         "player": "Lucas Luciano Mantela Patrício",
         "pred": 13256519,
         "true": 6990062
        },
        {
         "Position": "FP",
         "_deepnote_index_column": 66,
         "age": 20,
         "diff_%": 53.23336031953768,
         "diff_total": 3647363,
         "indexes": 4447,
         "player": "Silas Wamangituka",
         "pred": 6851649,
         "true": 3204286
        },
        {
         "Position": "FP",
         "_deepnote_index_column": 67,
         "age": 21,
         "diff_%": 68.0181107069435,
         "diff_total": 3629494,
         "indexes": 5361,
         "player": "Nuno Miguel Valente Santos",
         "pred": 5336070,
         "true": 1706576
        },
        {
         "Position": "FP",
         "_deepnote_index_column": 69,
         "age": 22,
         "diff_%": 71.34953248031496,
         "diff_total": 3479574,
         "indexes": 5504,
         "player": "Dani de Wit",
         "pred": 4876800,
         "true": 1397226
        },
        {
         "Position": "FP",
         "_deepnote_index_column": 72,
         "age": 20,
         "diff_%": 62.84232838206935,
         "diff_total": 3221825,
         "indexes": 5318,
         "player": "Davide Frattesi",
         "pred": 5126839,
         "true": 1905014
        },
        {
         "Position": "FP",
         "_deepnote_index_column": 74,
         "age": 23,
         "diff_%": 55.514206218705745,
         "diff_total": 3114156,
         "indexes": 4548,
         "player": "Andrés Felipe Tello Muñoz",
         "pred": 5609656,
         "true": 2495500
        },
        {
         "Position": "FP",
         "_deepnote_index_column": 76,
         "age": 17,
         "diff_%": 57.683790262250575,
         "diff_total": 2869952,
         "indexes": 5287,
         "player": "Jude Bellingham",
         "pred": 4975318,
         "true": 2105366
        },
        {
         "Position": "FP",
         "_deepnote_index_column": 77,
         "age": 23,
         "diff_%": 70.77075684825405,
         "diff_total": 2661168,
         "indexes": 7422,
         "player": "Abdelhamid Sabiri",
         "pred": 3760265,
         "true": 1099097
        },
        {
         "Position": "FP",
         "_deepnote_index_column": 78,
         "age": 20,
         "diff_%": 46.74083401905572,
         "diff_total": 2622000,
         "indexes": 4466,
         "player": "Cristian Ezequiel Ferreira",
         "pred": 5609656,
         "true": 2987656
        },
        {
         "Position": "FP",
         "_deepnote_index_column": 82,
         "age": 22,
         "diff_%": 67.37202120784437,
         "diff_total": 2483202,
         "indexes": 7279,
         "player": "Alexander Hartmann Bah",
         "pred": 3685806,
         "true": 1202604
        },
        {
         "Position": "FP",
         "_deepnote_index_column": 85,
         "age": 23,
         "diff_%": 60.93721774024321,
         "diff_total": 2337690,
         "indexes": 5404,
         "player": "Hidde ter Avest",
         "pred": 3836227,
         "true": 1498537
        },
        {
         "Position": "FP",
         "_deepnote_index_column": 88,
         "age": 18,
         "diff_%": 50.83559566171423,
         "diff_total": 2265773,
         "indexes": 5288,
         "player": "Karim-David Adeyemi",
         "pred": 4457060,
         "true": 2191287
        },
        {
         "Position": "FP",
         "_deepnote_index_column": 89,
         "age": 21,
         "diff_%": 61.71073011335299,
         "diff_total": 2251906,
         "indexes": 5421,
         "player": "Jelle Bataille",
         "pred": 3649132,
         "true": 1397226
        },
        {
         "Position": "FP",
         "_deepnote_index_column": 92,
         "age": 23,
         "diff_%": 48.82914905725508,
         "diff_total": 2198217,
         "indexes": 4553,
         "player": "Andrew Ferai Rinomhota",
         "pred": 4501854,
         "true": 2303637
        },
        {
         "Position": "FP",
         "_deepnote_index_column": 93,
         "age": 22,
         "diff_%": 57.68379929100571,
         "diff_total": 2190863,
         "indexes": 5393,
         "player": "Gonçalo Rosa Gonçalves Pereira Rodrigues",
         "pred": 3798056,
         "true": 1607193
        },
        {
         "Position": "FP",
         "_deepnote_index_column": 94,
         "age": 20,
         "diff_%": 45.66490796578326,
         "diff_total": 2182889,
         "indexes": 4386,
         "player": "Raphael William Paneira Rochedo",
         "pred": 4780233,
         "true": 2597344
        },
        {
         "Position": "FP",
         "_deepnote_index_column": 95,
         "age": 23,
         "diff_%": 68.3363368399286,
         "diff_total": 2167904,
         "indexes": 7445,
         "player": "Henrik Rørvik Bjørdal",
         "pred": 3172403,
         "true": 1004499
        },
        {
         "Position": "FP",
         "_deepnote_index_column": 99,
         "age": 20,
         "diff_%": 65.69916043698971,
         "diff_total": 2105189,
         "indexes": 7278,
         "player": "Jens-Lys Michel Cajuste",
         "pred": 3204286,
         "true": 1099097
        },
        {
         "Position": "FP",
         "_deepnote_index_column": 101,
         "age": 22,
         "diff_%": 44.01016090689371,
         "diff_total": 2041612,
         "indexes": 4519,
         "player": "Matheus Pereira da Silva",
         "pred": 4638956,
         "true": 2597344
        },
        {
         "Position": "FP",
         "_deepnote_index_column": 102,
         "age": 21,
         "diff_%": 38.121670068046335,
         "diff_total": 2034199,
         "indexes": 3818,
         "player": "Riley McGree",
         "pred": 5336070,
         "true": 3301871
        },
        {
         "Position": "FP",
         "_deepnote_index_column": 104,
         "age": 23,
         "diff_%": 60.93722592281087,
         "diff_total": 2032290,
         "indexes": 6403,
         "player": "Moussa Koné",
         "pred": 3335055,
         "true": 1302765
        },
        {
         "Position": "FP",
         "_deepnote_index_column": 105,
         "age": 23,
         "diff_%": 44.56728272396217,
         "diff_total": 2006354,
         "indexes": 4557,
         "player": "Franco Troyansky",
         "pred": 4501854,
         "true": 2495500
        },
        {
         "Position": "FP",
         "_deepnote_index_column": 107,
         "age": 22,
         "diff_%": 53.698702536161704,
         "diff_total": 1979230,
         "indexes": 5345,
         "player": "Aymen Barkok",
         "pred": 3685806,
         "true": 1706576
        },
        {
         "Position": "FP",
         "_deepnote_index_column": 108,
         "age": 22,
         "diff_%": 38.12166581536837,
         "diff_total": 1974079,
         "indexes": 3890,
         "player": "Pol Mikel Lirola Kosok",
         "pred": 5178365,
         "true": 3204286
        },
        {
         "Position": "FP",
         "_deepnote_index_column": 109,
         "age": 20,
         "diff_%": 58.52172418409813,
         "diff_total": 1971347,
         "indexes": 6343,
         "player": "Dejan Joveljić",
         "pred": 3368573,
         "true": 1397226
        },
        {
         "Position": "FP",
         "_deepnote_index_column": 110,
         "age": 18,
         "diff_%": 62.09170146415824,
         "diff_total": 1969799,
         "indexes": 8272,
         "player": "Ethan Laird",
         "pred": 3172403,
         "true": 1202604
        },
        {
         "Position": "GK",
         "_deepnote_index_column": 4,
         "age": 20,
         "diff_%": 50.83559597186399,
         "diff_total": 1855058,
         "indexes": 4376,
         "player": "Ailton Nuno Cardenhas Macedo",
         "pred": 3649132,
         "true": 1794074
        },
        {
         "Position": "FP",
         "_deepnote_index_column": 114,
         "age": 20,
         "diff_%": 55.067097843963595,
         "diff_total": 1836518,
         "indexes": 5355,
         "player": "菅原 由勢",
         "pred": 3335055,
         "true": 1498537
        },
        {
         "Position": "FP",
         "_deepnote_index_column": 119,
         "age": 21,
         "diff_%": 52.763350172288725,
         "diff_total": 1795235,
         "indexes": 6281,
         "player": "Stiven Ricardo Plaza Castillo",
         "pred": 3402428,
         "true": 1607193
        },
        {
         "Position": "FP",
         "_deepnote_index_column": 120,
         "age": 21,
         "diff_%": 38.73736663358589,
         "diff_total": 1779129,
         "indexes": 4481,
         "player": "Jonathan Alexander González Mendoza",
         "pred": 4592798,
         "true": 2813669
        },
        {
         "Position": "FP",
         "_deepnote_index_column": 121,
         "age": 22,
         "diff_%": 61.71072795800326,
         "diff_total": 1771412,
         "indexes": 7397,
         "player": "Víctor Alejandro Dávila Zavala",
         "pred": 2870509,
         "true": 1099097
        },
        {
         "Position": "FP",
         "_deepnote_index_column": 125,
         "age": 22,
         "diff_%": 55.06712310485161,
         "diff_total": 1712359,
         "indexes": 5510,
         "player": "Abdoulrahmane Harroui",
         "pred": 3109585,
         "true": 1397226
        },
        {
         "Position": "FP",
         "_deepnote_index_column": 131,
         "age": 23,
         "diff_%": 60.148102542682004,
         "diff_total": 1658857,
         "indexes": 7464,
         "player": "Andrei Virgil Ivan",
         "pred": 2757954,
         "true": 1099097
        },
        {
         "Position": "FP",
         "_deepnote_index_column": 134,
         "age": 23,
         "diff_%": 55.51421087335927,
         "diff_total": 1625732,
         "indexes": 5513,
         "player": "岩田 智輝",
         "pred": 2928497,
         "true": 1302765
        },
        {
         "Position": "FP",
         "_deepnote_index_column": 136,
         "age": 20,
         "diff_%": 46.74083061284408,
         "diff_total": 1574499,
         "indexes": 5234,
         "player": "Anselmo Túlio Marques Barni",
         "pred": 3368573,
         "true": 1794074
        },
        {
         "Position": "GK",
         "_deepnote_index_column": 5,
         "age": 20,
         "diff_%": 52.76336923570511,
         "diff_total": 1560703,
         "indexes": 5251,
         "player": "Jairo Ralph Farnias Almeida",
         "pred": 2957929,
         "true": 1397226
        },
        {
         "Position": "FP",
         "_deepnote_index_column": 137,
         "age": 22,
         "diff_%": 56.39506677776352,
         "diff_total": 1555350,
         "indexes": 6423,
         "player": "Keaton Alexander Parks",
         "pred": 2757954,
         "true": 1202604
        },
        {
         "Position": "FP",
         "_deepnote_index_column": 138,
         "age": 21,
         "diff_%": 46.20556482576749,
         "diff_total": 1540981,
         "indexes": 5336,
         "player": "Álex Bermejo Escribano",
         "pred": 3335055,
         "true": 1794074
        },
        {
         "Position": "FP",
         "_deepnote_index_column": 139,
         "age": 21,
         "diff_%": 50.341470591841485,
         "diff_total": 1519146,
         "indexes": 6276,
         "player": "Peru Nolaskoain Esnal",
         "pred": 3017683,
         "true": 1498537
        },
        {
         "Position": "FP",
         "_deepnote_index_column": 140,
         "age": 23,
         "diff_%": 38.73737647314936,
         "diff_total": 1516074,
         "indexes": 4594,
         "player": "Santiago Comesaña Veiga",
         "pred": 3913724,
         "true": 2397650
        },
        {
         "Position": "FP",
         "_deepnote_index_column": 151,
         "age": 22,
         "diff_%": 56.39509303608969,
         "diff_total": 1421484,
         "indexes": 6430,
         "player": "Berat Ayberk Özdemir",
         "pred": 2520581,
         "true": 1099097
        },
        {
         "Position": "FP",
         "_deepnote_index_column": 152,
         "age": 20,
         "diff_%": 38.12166434899723,
         "diff_total": 1419212,
         "indexes": 4378,
         "player": "Wagner Mauro Orsi Vasquez",
         "pred": 3722849,
         "true": 2303637
        },
        {
         "Position": "GK",
         "_deepnote_index_column": 6,
         "age": 20,
         "diff_%": 44.01017886668044,
         "diff_total": 1410212,
         "indexes": 4396,
         "player": "Eduardo Flávio Fonseira Meire",
         "pred": 3204286,
         "true": 1794074
        },
        {
         "Position": "FP",
         "_deepnote_index_column": 157,
         "age": 21,
         "diff_%": 49.842407864242446,
         "diff_total": 1388446,
         "indexes": 6346,
         "player": "Janus Guillermo Vivar Estrella",
         "pred": 2785672,
         "true": 1397226
        },
        {
         "Position": "FP",
         "_deepnote_index_column": 159,
         "age": 23,
         "diff_%": 55.51421274391157,
         "diff_total": 1371573,
         "indexes": 7350,
         "player": "Denis Will Poha",
         "pred": 2470670,
         "true": 1099097
        },
        {
         "Position": "FP",
         "_deepnote_index_column": 160,
         "age": 23,
         "diff_%": 49.338313836996555,
         "diff_total": 1360728,
         "indexes": 6271,
         "player": "Edgar Zaldivar Valverde",
         "pred": 2757954,
         "true": 1397226
        },
        {
         "Position": "FP",
         "_deepnote_index_column": 161,
         "age": 19,
         "diff_%": 49.338313836996555,
         "diff_total": 1360728,
         "indexes": 8305,
         "player": "Kouadio Manu Koné",
         "pred": 2757954,
         "true": 1397226
        },
        {
         "Position": "FP",
         "_deepnote_index_column": 163,
         "age": 22,
         "diff_%": 52.763350515119726,
         "diff_total": 1343309,
         "indexes": 6462,
         "player": "이승우 李昇佑",
         "pred": 2545913,
         "true": 1202604
        },
        {
         "Position": "FP",
         "_deepnote_index_column": 166,
         "age": 22,
         "diff_%": 45.118844239895076,
         "diff_total": 1321304,
         "indexes": 5385,
         "player": "Emmanuel Afriyie Mario Sabbi",
         "pred": 2928497,
         "true": 1607193
        },
        {
         "Position": "FP",
         "_deepnote_index_column": 167,
         "age": 23,
         "diff_%": 46.74082132617589,
         "diff_total": 1315132,
         "indexes": 5511,
         "player": "João Klauss de Mello",
         "pred": 2813669,
         "true": 1498537
        },
        {
         "Position": "FP",
         "_deepnote_index_column": 168,
         "age": 23,
         "diff_%": 48.31488272113453,
         "diff_total": 1306117,
         "indexes": 5400,
         "player": "Olivier Michel Kemen",
         "pred": 2703343,
         "true": 1397226
        },
        {
         "Position": "FP",
         "_deepnote_index_column": 176,
         "age": 21,
         "diff_%": 38.73736355607817,
         "diff_total": 1266331,
         "indexes": 5309,
         "player": "Jakub Moder",
         "pred": 3269017,
         "true": 2002686
        },
        {
         "Position": "FP",
         "_deepnote_index_column": 178,
         "age": 21,
         "diff_%": 50.83557977928822,
         "diff_total": 1243482,
         "indexes": 7334,
         "player": "Jon Morcillo Conesa",
         "pred": 2446086,
         "true": 1202604
        },
        {
         "Position": "GK",
         "_deepnote_index_column": 7,
         "age": 20,
         "diff_%": 44.56726356958773,
         "diff_total": 1204806,
         "indexes": 5320,
         "player": "Illan Meslier",
         "pred": 2703343,
         "true": 1498537
        },
        {
         "Position": "FP",
         "_deepnote_index_column": 185,
         "age": 22,
         "diff_%": 52.28862012547984,
         "diff_total": 1204540,
         "indexes": 6421,
         "player": "Samuel Yves Oum Gouet",
         "pred": 2303637,
         "true": 1099097
        },
        {
         "Position": "FP",
         "_deepnote_index_column": 187,
         "age": 23,
         "diff_%": 42.30501652743037,
         "diff_total": 1178479,
         "indexes": 5369,
         "player": "Rey Manaj",
         "pred": 2785672,
         "true": 1607193
        },
        {
         "Position": "FP",
         "_deepnote_index_column": 189,
         "age": 23,
         "diff_%": 47.270780800349705,
         "diff_total": 1167905,
         "indexes": 5440,
         "player": "Kenneth Paal",
         "pred": 2470670,
         "true": 1302765
        },
        {
         "Position": "FP",
         "_deepnote_index_column": 199,
         "age": 23,
         "diff_%": 50.83558706253572,
         "diff_total": 1136457,
         "indexes": 6467,
         "player": "板仓 晃",
         "pred": 2235554,
         "true": 1099097
        },
        {
         "Position": "FP",
         "_deepnote_index_column": 203,
         "age": 20,
         "diff_%": 48.31486653925216,
         "diff_total": 1124185,
         "indexes": 9429,
         "player": "Finn Ole Becker",
         "pred": 2326789,
         "true": 1202604
        },
        {
         "Position": "FP",
         "_deepnote_index_column": 205,
         "age": 23,
         "diff_%": 52.76335806068586,
         "diff_total": 1122026,
         "indexes": 7515,
         "player": "Oliver Burke",
         "pred": 2126525,
         "true": 1004499
        },
        {
         "Position": "FP",
         "_deepnote_index_column": 212,
         "age": 21,
         "diff_%": 47.79542089313551,
         "diff_total": 1101033,
         "indexes": 6374,
         "player": "橋岡 大樹",
         "pred": 2303637,
         "true": 1202604
        },
        {
         "Position": "FP",
         "_deepnote_index_column": 215,
         "age": 23,
         "diff_%": 40.54794378663751,
         "diff_total": 1096150,
         "indexes": 5370,
         "player": "Paolo Ghiglione",
         "pred": 2703343,
         "true": 1607193
        },
        {
         "Position": "FP",
         "_deepnote_index_column": 221,
         "age": 21,
         "diff_%": 51.80911497075681,
         "diff_total": 1079918,
         "indexes": 8444,
         "player": "Abass Issah",
         "pred": 2084417,
         "true": 1004499
        },
        {
         "Position": "FP",
         "_deepnote_index_column": 231,
         "age": 23,
         "diff_%": 46.205549049586814,
         "diff_total": 1032950,
         "indexes": 6520,
         "player": "한찬희 韩赞熙",
         "pred": 2235554,
         "true": 1202604
        },
        {
         "Position": "FP",
         "_deepnote_index_column": 237,
         "age": 22,
         "diff_%": 43.44747023945179,
         "diff_total": 1000872,
         "indexes": 6409,
         "player": "Eric Ocansey",
         "pred": 2303637,
         "true": 1302765
        },
        {
         "Position": "FP",
         "_deepnote_index_column": 250,
         "age": 22,
         "diff_%": 37.4997861170523,
         "diff_total": 964307,
         "indexes": 5371,
         "player": "Ibrahima Sissoko",
         "pred": 2571500,
         "true": 1607193
        },
        {
         "Position": "FP",
         "_deepnote_index_column": 254,
         "age": 22,
         "diff_%": 40.547976447701316,
         "diff_total": 952948,
         "indexes": 5414,
         "player": "Abdoulaye Sissako",
         "pred": 2350174,
         "true": 1397226
        },
        {
         "Position": "FP",
         "_deepnote_index_column": 259,
         "age": 22,
         "diff_%": 46.20557640850396,
         "diff_total": 944046,
         "indexes": 7302,
         "player": "Maxim Leitsch",
         "pred": 2043143,
         "true": 1099097
        },
        {
         "Position": "FP",
         "_deepnote_index_column": 272,
         "age": 20,
         "diff_%": 41.139515025007796,
         "diff_total": 910545,
         "indexes": 7227,
         "player": "Sebastián Enzo Cáceres Ramos",
         "pred": 2213310,
         "true": 1302765
        },
        {
         "Position": "FP",
         "_deepnote_index_column": 271,
         "age": 21,
         "diff_%": 41.139515025007796,
         "diff_total": 910545,
         "indexes": 6366,
         "player": "菅 大輝",
         "pred": 2213310,
         "true": 1302765
        },
        {
         "Position": "GK",
         "_deepnote_index_column": 8,
         "age": 23,
         "diff_%": 42.879100355947614,
         "diff_total": 902762,
         "indexes": 5407,
         "player": "Bailey Peacock-Farrell",
         "pred": 2105366,
         "true": 1202604
        },
        {
         "Position": "FP",
         "_deepnote_index_column": 274,
         "age": 22,
         "diff_%": 37.49976018184472,
         "diff_total": 899113,
         "indexes": 5416,
         "player": "Orji Okwonkwo",
         "pred": 2397650,
         "true": 1498537
        },
        {
         "Position": "FP",
         "_deepnote_index_column": 278,
         "age": 22,
         "diff_%": 40.54795195700061,
         "diff_total": 888522,
         "indexes": 6392,
         "player": "Dimitri Joseph Oberlin Mfomo",
         "pred": 2191287,
         "true": 1302765
        },
        {
         "Position": "FP",
         "_deepnote_index_column": 280,
         "age": 20,
         "diff_%": 44.567292343648425,
         "diff_total": 883662,
         "indexes": 8338,
         "player": "Leandro Barreiro Martins",
         "pred": 1982759,
         "true": 1099097
        },
        {
         "Position": "FP",
         "_deepnote_index_column": 285,
         "age": 22,
         "diff_%": 44.010178142972855,
         "diff_total": 863933,
         "indexes": 7306,
         "player": "Abdul Mumin",
         "pred": 1963030,
         "true": 1099097
        },
        {
         "Position": "FP",
         "_deepnote_index_column": 286,
         "age": 22,
         "diff_%": 44.010178142972855,
         "diff_total": 863933,
         "indexes": 6408,
         "player": "Jakob Lungi Sørensen",
         "pred": 1963030,
         "true": 1099097
        },
        {
         "Position": "FP",
         "_deepnote_index_column": 288,
         "age": 22,
         "diff_%": 41.72518276842742,
         "diff_total": 861073,
         "indexes": 5563,
         "player": "Mikhail Lysov",
         "pred": 2063677,
         "true": 1202604
        },
        {
         "Position": "GK",
         "_deepnote_index_column": 9,
         "age": 18,
         "diff_%": 36.237189246413244,
         "diff_total": 851637,
         "indexes": 6206,
         "player": "Maarten Vandevoordt",
         "pred": 2350174,
         "true": 1498537
        },
        {
         "Position": "GK",
         "_deepnote_index_column": 10,
         "age": 19,
         "diff_%": 40.547939923265275,
         "diff_total": 820209,
         "indexes": 7206,
         "player": "Ersin Destanoğlu",
         "pred": 2022813,
         "true": 1202604
        },
        {
         "Position": "FP",
         "_deepnote_index_column": 307,
         "age": 20,
         "diff_%": 44.567285008319054,
         "diff_total": 807606,
         "indexes": 7120,
         "player": "Sandeiro Luan Leal Neto",
         "pred": 1812105,
         "true": 1004499
        },
        {
         "Position": "GK",
         "_deepnote_index_column": 11,
         "age": 22,
         "diff_%": 42.305021507124145,
         "diff_total": 736552,
         "indexes": 6360,
         "player": "Sebastián Jurado Roca",
         "pred": 1741051,
         "true": 1004499
        },
        {
         "Position": "FP",
         "_deepnote_index_column": 335,
         "age": 22,
         "diff_%": 37.49975963524844,
         "diff_total": 721555,
         "indexes": 7233,
         "player": "Hayden Coulson",
         "pred": 1924159,
         "true": 1202604
        },
        {
         "Position": "GK",
         "_deepnote_index_column": 12,
         "age": 20,
         "diff_%": 39.3469473347295,
         "diff_total": 713008,
         "indexes": 6334,
         "player": "大迫 圭介",
         "pred": 1812105,
         "true": 1099097
        },
        {
         "Position": "FP",
         "_deepnote_index_column": 347,
         "age": 18,
         "diff_%": 38.737365348363554,
         "diff_total": 694977,
         "indexes": 9396,
         "player": "Matías Damián Palacios",
         "pred": 1794074,
         "true": 1099097
        },
        {
         "Position": "FP",
         "_deepnote_index_column": 348,
         "age": 21,
         "diff_%": 38.737365348363554,
         "diff_total": 694977,
         "indexes": 7366,
         "player": "Louis Verstraete",
         "pred": 1794074,
         "true": 1099097
        },
        {
         "Position": "FP",
         "_deepnote_index_column": 375,
         "age": 23,
         "diff_%": 37.49977964788015,
         "diff_total": 659452,
         "indexes": 6469,
         "player": "Damil Dankerlui",
         "pred": 1758549,
         "true": 1099097
        },
        {
         "Position": "FP",
         "_deepnote_index_column": 373,
         "age": 21,
         "diff_%": 37.49977964788015,
         "diff_total": 659452,
         "indexes": 8376,
         "player": "Joel Asoro",
         "pred": 1758549,
         "true": 1099097
        },
        {
         "Position": "FP",
         "_deepnote_index_column": 376,
         "age": 22,
         "diff_%": 37.49977964788015,
         "diff_total": 659452,
         "indexes": 6538,
         "player": "Bryan Ignacio Carabalí Cañola",
         "pred": 1758549,
         "true": 1099097
        },
        {
         "Position": "GK",
         "_deepnote_index_column": 20,
         "age": 22,
         "diff_%": 32.968021476947186,
         "diff_total": 494038,
         "indexes": 6378,
         "player": "Álvaro Vallés Rosa",
         "pred": 1498537,
         "true": 1004499
        },
        {
         "Position": "GK",
         "_deepnote_index_column": 21,
         "age": 23,
         "diff_%": 28.822982384109565,
         "diff_total": 445077,
         "indexes": 5507,
         "player": "Adam Jakubech",
         "pred": 1544174,
         "true": 1099097
        }
       ]
      },
      "text/html": [
       "<div>\n",
       "<style scoped>\n",
       "    .dataframe tbody tr th:only-of-type {\n",
       "        vertical-align: middle;\n",
       "    }\n",
       "\n",
       "    .dataframe tbody tr th {\n",
       "        vertical-align: top;\n",
       "    }\n",
       "\n",
       "    .dataframe thead th {\n",
       "        text-align: right;\n",
       "    }\n",
       "</style>\n",
       "<table border=\"1\" class=\"dataframe\">\n",
       "  <thead>\n",
       "    <tr style=\"text-align: right;\">\n",
       "      <th></th>\n",
       "      <th>player</th>\n",
       "      <th>age</th>\n",
       "      <th>indexes</th>\n",
       "      <th>true</th>\n",
       "      <th>pred</th>\n",
       "      <th>diff_total</th>\n",
       "      <th>diff_%</th>\n",
       "      <th>Position</th>\n",
       "    </tr>\n",
       "  </thead>\n",
       "  <tbody>\n",
       "    <tr>\n",
       "      <th>59</th>\n",
       "      <td>Everton Jorge Simão Resende</td>\n",
       "      <td>20</td>\n",
       "      <td>868</td>\n",
       "      <td>10019061</td>\n",
       "      <td>25906384</td>\n",
       "      <td>15887323</td>\n",
       "      <td>61.325899</td>\n",
       "      <td>FP</td>\n",
       "    </tr>\n",
       "    <tr>\n",
       "      <th>2</th>\n",
       "      <td>Lucas Luciano Mantela Patrício</td>\n",
       "      <td>20</td>\n",
       "      <td>1135</td>\n",
       "      <td>6990062</td>\n",
       "      <td>13256519</td>\n",
       "      <td>6266457</td>\n",
       "      <td>47.270758</td>\n",
       "      <td>GK</td>\n",
       "    </tr>\n",
       "    <tr>\n",
       "      <th>66</th>\n",
       "      <td>Silas Wamangituka</td>\n",
       "      <td>20</td>\n",
       "      <td>4447</td>\n",
       "      <td>3204286</td>\n",
       "      <td>6851649</td>\n",
       "      <td>3647363</td>\n",
       "      <td>53.233360</td>\n",
       "      <td>FP</td>\n",
       "    </tr>\n",
       "    <tr>\n",
       "      <th>67</th>\n",
       "      <td>Nuno Miguel Valente Santos</td>\n",
       "      <td>21</td>\n",
       "      <td>5361</td>\n",
       "      <td>1706576</td>\n",
       "      <td>5336070</td>\n",
       "      <td>3629494</td>\n",
       "      <td>68.018111</td>\n",
       "      <td>FP</td>\n",
       "    </tr>\n",
       "    <tr>\n",
       "      <th>69</th>\n",
       "      <td>Dani de Wit</td>\n",
       "      <td>22</td>\n",
       "      <td>5504</td>\n",
       "      <td>1397226</td>\n",
       "      <td>4876800</td>\n",
       "      <td>3479574</td>\n",
       "      <td>71.349532</td>\n",
       "      <td>FP</td>\n",
       "    </tr>\n",
       "    <tr>\n",
       "      <th>...</th>\n",
       "      <td>...</td>\n",
       "      <td>...</td>\n",
       "      <td>...</td>\n",
       "      <td>...</td>\n",
       "      <td>...</td>\n",
       "      <td>...</td>\n",
       "      <td>...</td>\n",
       "      <td>...</td>\n",
       "    </tr>\n",
       "    <tr>\n",
       "      <th>375</th>\n",
       "      <td>Damil Dankerlui</td>\n",
       "      <td>23</td>\n",
       "      <td>6469</td>\n",
       "      <td>1099097</td>\n",
       "      <td>1758549</td>\n",
       "      <td>659452</td>\n",
       "      <td>37.499780</td>\n",
       "      <td>FP</td>\n",
       "    </tr>\n",
       "    <tr>\n",
       "      <th>373</th>\n",
       "      <td>Joel Asoro</td>\n",
       "      <td>21</td>\n",
       "      <td>8376</td>\n",
       "      <td>1099097</td>\n",
       "      <td>1758549</td>\n",
       "      <td>659452</td>\n",
       "      <td>37.499780</td>\n",
       "      <td>FP</td>\n",
       "    </tr>\n",
       "    <tr>\n",
       "      <th>376</th>\n",
       "      <td>Bryan Ignacio Carabalí Cañola</td>\n",
       "      <td>22</td>\n",
       "      <td>6538</td>\n",
       "      <td>1099097</td>\n",
       "      <td>1758549</td>\n",
       "      <td>659452</td>\n",
       "      <td>37.499780</td>\n",
       "      <td>FP</td>\n",
       "    </tr>\n",
       "    <tr>\n",
       "      <th>20</th>\n",
       "      <td>Álvaro Vallés Rosa</td>\n",
       "      <td>22</td>\n",
       "      <td>6378</td>\n",
       "      <td>1004499</td>\n",
       "      <td>1498537</td>\n",
       "      <td>494038</td>\n",
       "      <td>32.968021</td>\n",
       "      <td>GK</td>\n",
       "    </tr>\n",
       "    <tr>\n",
       "      <th>21</th>\n",
       "      <td>Adam Jakubech</td>\n",
       "      <td>23</td>\n",
       "      <td>5507</td>\n",
       "      <td>1099097</td>\n",
       "      <td>1544174</td>\n",
       "      <td>445077</td>\n",
       "      <td>28.822982</td>\n",
       "      <td>GK</td>\n",
       "    </tr>\n",
       "  </tbody>\n",
       "</table>\n",
       "<p>91 rows × 8 columns</p>\n",
       "</div>"
      ],
      "text/plain": [
       "                             player  age  indexes      true      pred  \\\n",
       "59      Everton Jorge Simão Resende   20      868  10019061  25906384   \n",
       "2    Lucas Luciano Mantela Patrício   20     1135   6990062  13256519   \n",
       "66                Silas Wamangituka   20     4447   3204286   6851649   \n",
       "67       Nuno Miguel Valente Santos   21     5361   1706576   5336070   \n",
       "69                      Dani de Wit   22     5504   1397226   4876800   \n",
       "..                              ...  ...      ...       ...       ...   \n",
       "375                 Damil Dankerlui   23     6469   1099097   1758549   \n",
       "373                      Joel Asoro   21     8376   1099097   1758549   \n",
       "376   Bryan Ignacio Carabalí Cañola   22     6538   1099097   1758549   \n",
       "20               Álvaro Vallés Rosa   22     6378   1004499   1498537   \n",
       "21                    Adam Jakubech   23     5507   1099097   1544174   \n",
       "\n",
       "     diff_total     diff_% Position  \n",
       "59     15887323  61.325899       FP  \n",
       "2       6266457  47.270758       GK  \n",
       "66      3647363  53.233360       FP  \n",
       "67      3629494  68.018111       FP  \n",
       "69      3479574  71.349532       FP  \n",
       "..          ...        ...      ...  \n",
       "375      659452  37.499780       FP  \n",
       "373      659452  37.499780       FP  \n",
       "376      659452  37.499780       FP  \n",
       "20       494038  32.968021       GK  \n",
       "21       445077  28.822982       GK  \n",
       "\n",
       "[91 rows x 8 columns]"
      ]
     },
     "execution_count": 92,
     "metadata": {},
     "output_type": "execute_result"
    }
   ],
   "source": [
    "df_gk_final_perc = df_gk_org.nlargest(100,'diff_%')\n",
    "df_gk_final_total = df_gk_org.nlargest(100,\"diff_total\")\n",
    "list_gk_topperc = list(df_gk_final_perc.player)\n",
    "df_gk_final = df_gk_final_total[df_gk_final_total.player.isin(list_gk_topperc)]\n",
    "df_gk_final[\"Position\"] = \"GK\"\n",
    "\n",
    "df_field_final_perc = df_field_org.nlargest(1000,'diff_%')\n",
    "df_field_final_total = df_field_org.nlargest(1000,\"diff_total\")\n",
    "list_field_topperc = list(df_field_final_perc.player)\n",
    "df_field_final = df_field_final_total[df_field_final_total.player.isin(list_field_topperc)]\n",
    "df_field_final[\"Position\"] = \"FP\"\n",
    "\n",
    "final = df_gk_final.append(df_field_final, ignore_index=True)\n",
    "final[(final.age <= 23) & (final.true >= 1000000)].sort_values(by=\"diff_total\",ascending=False)"
   ]
  },
  {
   "cell_type": "markdown",
   "metadata": {
    "cell_id": "00116-5ac3c14d-c973-4eb3-9df6-b6e32e98deb1",
    "deepnote_cell_type": "markdown",
    "tags": []
   },
   "source": [
    "In order to interpret the final dataframe for goalkeepers, one can perceive that Alisson Becker (goalkeeper of Liverpool FC, recently transferred for a huge amount of money), is strongly undervalued after our regression model. The total value difference of almost 30 million Euros is also considered high-ranked among the percentage difference. \n",
    "\n",
    "The second clearly undervalued goalkeeper is Andre Onana, who is perceived as huge talent by football experts.  \n",
    "A drawback which can be perceived after analyzing the percentage difference between value derived from FIFA and the predicted values by regressiom is the fact that the players with the highest percentage difference are all very old. This could be a hint that the model is not entirely able to account for the importance of the age of a football player for the market value. However, the value range also needs to be accounted for, as the market values of the old players are anyway very low and a certain error has higher impact on the percentage difference as for players with values in the millions range."
   ]
  },
  {
   "cell_type": "markdown",
   "metadata": {
    "cell_id": "00122-fef92d4d-6032-457d-bc3c-320049af8118",
    "deepnote_cell_type": "markdown",
    "tags": []
   },
   "source": []
  },
  {
   "cell_type": "markdown",
   "metadata": {
    "created_in_deepnote_cell": true,
    "deepnote_cell_type": "markdown",
    "tags": []
   },
   "source": [
    "<a style='text-decoration:none;line-height:16px;display:flex;color:#5B5B62;padding:10px;justify-content:end;' href='https://deepnote.com?utm_source=created-in-deepnote-cell&projectId=d0001f84-164c-454a-9f8a-a2e6174a5f5c' target=\"_blank\">\n",
    "<img alt='Created in deepnote.com' style='display:inline;max-height:16px;margin:0px;margin-right:7.5px;' src='data:image/svg+xml;base64,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' > </img>\n",
    "Created in <span style='font-weight:600;margin-left:4px;'>Deepnote</span></a>"
   ]
  }
 ],
 "metadata": {
  "deepnote": {
   "is_reactive": false
  },
  "deepnote_execution_queue": [],
  "deepnote_notebook_id": "4448ab91-3d62-40db-86e0-1035c0080b8c",
  "kernelspec": {
   "display_name": "Python 3",
   "language": "python",
   "name": "python3"
  },
  "language_info": {
   "codemirror_mode": {
    "name": "ipython",
    "version": 3
   },
   "file_extension": ".py",
   "mimetype": "text/x-python",
   "name": "python",
   "nbconvert_exporter": "python",
   "pygments_lexer": "ipython3",
   "version": "3.8.2"
  }
 },
 "nbformat": 4,
 "nbformat_minor": 2
}
